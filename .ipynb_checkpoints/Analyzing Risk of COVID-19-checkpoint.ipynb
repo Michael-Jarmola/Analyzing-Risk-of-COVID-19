{
 "cells": [
  {
   "cell_type": "code",
   "execution_count": 1,
   "metadata": {},
   "outputs": [],
   "source": [
    "import pandas as pd\n",
    "import matplotlib\n",
    "import matplotlib.pyplot as plt\n",
    "import seaborn as sns\n",
    "import numpy as np\n",
    "import scipy.stats\n",
    "import random\n",
    "\n",
    "pd.options.display.max_rows = 999\n",
    "pd.options.display.max_columns = 999\n",
    "\n",
    "%matplotlib inline"
   ]
  },
  {
   "cell_type": "code",
   "execution_count": 2,
   "metadata": {},
   "outputs": [],
   "source": [
    "mmsa_df = pd.read_csv(\"mmsa-icu-beds.txt\", sep = \",\")"
   ]
  },
  {
   "cell_type": "code",
   "execution_count": 3,
   "metadata": {},
   "outputs": [
    {
     "name": "stdout",
     "output_type": "stream",
     "text": [
      "<class 'pandas.core.frame.DataFrame'>\n",
      "RangeIndex: 136 entries, 0 to 135\n",
      "Data columns (total 7 columns):\n",
      "MMSA                      136 non-null object\n",
      "total_percent_at_risk     136 non-null object\n",
      "high_risk_per_ICU_bed     135 non-null float64\n",
      "high_risk_per_hospital    135 non-null float64\n",
      "icu_beds                  135 non-null float64\n",
      "hospitals                 135 non-null float64\n",
      "total_at_risk             136 non-null float64\n",
      "dtypes: float64(5), object(2)\n",
      "memory usage: 7.6+ KB\n"
     ]
    }
   ],
   "source": [
    "mmsa_df.info()"
   ]
  },
  {
   "cell_type": "code",
   "execution_count": 4,
   "metadata": {},
   "outputs": [
    {
     "data": {
      "text/html": [
       "<div>\n",
       "<style scoped>\n",
       "    .dataframe tbody tr th:only-of-type {\n",
       "        vertical-align: middle;\n",
       "    }\n",
       "\n",
       "    .dataframe tbody tr th {\n",
       "        vertical-align: top;\n",
       "    }\n",
       "\n",
       "    .dataframe thead th {\n",
       "        text-align: right;\n",
       "    }\n",
       "</style>\n",
       "<table border=\"1\" class=\"dataframe\">\n",
       "  <thead>\n",
       "    <tr style=\"text-align: right;\">\n",
       "      <th></th>\n",
       "      <th>high_risk_per_ICU_bed</th>\n",
       "      <th>high_risk_per_hospital</th>\n",
       "      <th>icu_beds</th>\n",
       "      <th>hospitals</th>\n",
       "      <th>total_at_risk</th>\n",
       "    </tr>\n",
       "  </thead>\n",
       "  <tbody>\n",
       "    <tr>\n",
       "      <td>count</td>\n",
       "      <td>135.000000</td>\n",
       "      <td>135.000000</td>\n",
       "      <td>135.000000</td>\n",
       "      <td>135.000000</td>\n",
       "      <td>1.360000e+02</td>\n",
       "    </tr>\n",
       "    <tr>\n",
       "      <td>mean</td>\n",
       "      <td>1947.356729</td>\n",
       "      <td>43787.067561</td>\n",
       "      <td>360.185185</td>\n",
       "      <td>13.762963</td>\n",
       "      <td>6.671887e+05</td>\n",
       "    </tr>\n",
       "    <tr>\n",
       "      <td>std</td>\n",
       "      <td>720.661896</td>\n",
       "      <td>17992.274197</td>\n",
       "      <td>450.580508</td>\n",
       "      <td>15.377929</td>\n",
       "      <td>8.847868e+05</td>\n",
       "    </tr>\n",
       "    <tr>\n",
       "      <td>min</td>\n",
       "      <td>413.667706</td>\n",
       "      <td>6770.190000</td>\n",
       "      <td>8.000000</td>\n",
       "      <td>1.000000</td>\n",
       "      <td>1.794153e+04</td>\n",
       "    </tr>\n",
       "    <tr>\n",
       "      <td>25%</td>\n",
       "      <td>1487.781317</td>\n",
       "      <td>31005.455625</td>\n",
       "      <td>89.500000</td>\n",
       "      <td>5.000000</td>\n",
       "      <td>1.587478e+05</td>\n",
       "    </tr>\n",
       "    <tr>\n",
       "      <td>50%</td>\n",
       "      <td>1923.676063</td>\n",
       "      <td>42460.360000</td>\n",
       "      <td>221.000000</td>\n",
       "      <td>9.000000</td>\n",
       "      <td>3.960815e+05</td>\n",
       "    </tr>\n",
       "    <tr>\n",
       "      <td>75%</td>\n",
       "      <td>2321.085003</td>\n",
       "      <td>56583.347585</td>\n",
       "      <td>489.500000</td>\n",
       "      <td>18.000000</td>\n",
       "      <td>9.327925e+05</td>\n",
       "    </tr>\n",
       "    <tr>\n",
       "      <td>max</td>\n",
       "      <td>4489.848750</td>\n",
       "      <td>91771.345830</td>\n",
       "      <td>2777.000000</td>\n",
       "      <td>100.000000</td>\n",
       "      <td>6.165102e+06</td>\n",
       "    </tr>\n",
       "  </tbody>\n",
       "</table>\n",
       "</div>"
      ],
      "text/plain": [
       "       high_risk_per_ICU_bed  high_risk_per_hospital     icu_beds   hospitals  \\\n",
       "count             135.000000              135.000000   135.000000  135.000000   \n",
       "mean             1947.356729            43787.067561   360.185185   13.762963   \n",
       "std               720.661896            17992.274197   450.580508   15.377929   \n",
       "min               413.667706             6770.190000     8.000000    1.000000   \n",
       "25%              1487.781317            31005.455625    89.500000    5.000000   \n",
       "50%              1923.676063            42460.360000   221.000000    9.000000   \n",
       "75%              2321.085003            56583.347585   489.500000   18.000000   \n",
       "max              4489.848750            91771.345830  2777.000000  100.000000   \n",
       "\n",
       "       total_at_risk  \n",
       "count   1.360000e+02  \n",
       "mean    6.671887e+05  \n",
       "std     8.847868e+05  \n",
       "min     1.794153e+04  \n",
       "25%     1.587478e+05  \n",
       "50%     3.960815e+05  \n",
       "75%     9.327925e+05  \n",
       "max     6.165102e+06  "
      ]
     },
     "execution_count": 4,
     "metadata": {},
     "output_type": "execute_result"
    }
   ],
   "source": [
    "mmsa_df.describe()"
   ]
  },
  {
   "cell_type": "markdown",
   "metadata": {},
   "source": [
    "drop MMSA San Juan-Carolina-Caguas, PR"
   ]
  },
  {
   "cell_type": "code",
   "execution_count": 5,
   "metadata": {},
   "outputs": [],
   "source": [
    "mmsa_df = mmsa_df.set_index(\"MMSA\")\n",
    "mmsa_df = mmsa_df.drop(\"San Juan-Carolina-Caguas, PR\", axis=0) # axis = 0 is for rows"
   ]
  },
  {
   "cell_type": "markdown",
   "metadata": {},
   "source": [
    "`[^\\d]` is the regular expression to get non-digits. We replace the nuon-digits with nothing `('')`. We convert the `object` to an integer, then divide the integer by 1,000 to get the percentage in decimal form."
   ]
  },
  {
   "cell_type": "code",
   "execution_count": 6,
   "metadata": {},
   "outputs": [],
   "source": [
    "mmsa_df[\"total_percent_at_risk\"] = mmsa_df[\"total_percent_at_risk\"].str.replace('[^\\d]', '').astype(int) / 10000"
   ]
  },
  {
   "cell_type": "markdown",
   "metadata": {},
   "source": [
    "convert icu beds and hospital beds to integers datatype."
   ]
  },
  {
   "cell_type": "code",
   "execution_count": 7,
   "metadata": {},
   "outputs": [],
   "source": [
    "mmsa_df[\"icu_beds\"] = mmsa_df[\"icu_beds\"].astype(int)\n",
    "mmsa_df[\"hospitals\"] = mmsa_df[\"hospitals\"].astype(int)"
   ]
  },
  {
   "cell_type": "markdown",
   "metadata": {},
   "source": [
    "calculate total population"
   ]
  },
  {
   "cell_type": "code",
   "execution_count": 8,
   "metadata": {},
   "outputs": [],
   "source": [
    "mmsa_df[\"total_population\"] = mmsa_df[\"total_at_risk\"] / mmsa_df[\"total_percent_at_risk\"]\n",
    "mmsa_df[\"total_population\"] = mmsa_df[\"total_population\"].round().astype(int)"
   ]
  },
  {
   "cell_type": "markdown",
   "metadata": {},
   "source": [
    "extract Metropolitan Division from MMSA"
   ]
  },
  {
   "cell_type": "code",
   "execution_count": 9,
   "metadata": {},
   "outputs": [],
   "source": [
    "mmsa_df = mmsa_df.reset_index()"
   ]
  },
  {
   "cell_type": "code",
   "execution_count": 10,
   "metadata": {},
   "outputs": [],
   "source": [
    "mmsa_df['metro_div'] = mmsa_df['MMSA'].astype(str).str.extract('(Metropolitan Division)', expand=False)\n",
    "mmsa_df['metro_div'] = np.where(mmsa_df[\"metro_div\"].notnull(), 1, 0)"
   ]
  },
  {
   "cell_type": "markdown",
   "metadata": {},
   "source": [
    "extract state from MMSA"
   ]
  },
  {
   "cell_type": "code",
   "execution_count": 11,
   "metadata": {},
   "outputs": [],
   "source": [
    "mmsa_df[\"State\"] = mmsa_df[\"MMSA\"].str.split(\",\").str.get(1)\n",
    "mmsa_df[\"multiple_states_len\"] = mmsa_df['State'].str.strip().str.len()\n",
    "mmsa_df['multiple_states'] = np.where(mmsa_df[\"multiple_states_len\"] > 2, 1, 0)\n",
    "mmsa_df = mmsa_df.drop([\"State\",\"multiple_states_len\"], axis = 1) # axis = 1 is for columns"
   ]
  },
  {
   "cell_type": "markdown",
   "metadata": {},
   "source": [
    "take log of continuous variables"
   ]
  },
  {
   "cell_type": "code",
   "execution_count": 12,
   "metadata": {},
   "outputs": [],
   "source": [
    "mmsa_df[\"total_at_risk_log\"] = np.log(mmsa_df[\"total_at_risk\"])\n",
    "mmsa_df[\"total_population_log\"] = np.log(mmsa_df[\"total_population\"])\n",
    "mmsa_df[\"icu_beds_log\"] = np.log(mmsa_df[\"icu_beds\"])\n",
    "mmsa_df[\"hospitals_log\"] = np.log(mmsa_df[\"hospitals\"])"
   ]
  },
  {
   "cell_type": "markdown",
   "metadata": {},
   "source": [
    "__plot histograms__"
   ]
  },
  {
   "cell_type": "code",
   "execution_count": 28,
   "metadata": {},
   "outputs": [
    {
     "data": {
      "image/png": "[encoded data removed]",
      "text/plain": [
       "<Figure size 432x288 with 2 Axes>"
      ]
     },
     "metadata": {
      "needs_background": "light"
     },
     "output_type": "display_data"
    }
   ],
   "source": [
    "plt.subplot(1, 2, 1)\n",
    "plt.hist(mmsa_df[\"total_at_risk\"], density = True, bins = 30)\n",
    "plt.ylabel(\"Probability\")\n",
    "plt.xlabel(\"Total At Risk\")\n",
    "plt.xticks(rotation = 45)\n",
    "\n",
    "plt.subplot(1, 2, 2)\n",
    "plt.hist(mmsa_df[\"total_at_risk_log\"], density = True, bins = 30)\n",
    "plt.ylabel(\"Probability\")\n",
    "plt.xlabel(\"Logged Total At Risk\")\n",
    "\n",
    "plt.tight_layout()\n",
    "plt.show()"
   ]
  },
  {
   "cell_type": "code",
   "execution_count": 30,
   "metadata": {},
   "outputs": [
    {
     "data": {
      "image/png": "[encoded data removed]",
      "text/plain": [
       "<Figure size 432x288 with 2 Axes>"
      ]
     },
     "metadata": {
      "needs_background": "light"
     },
     "output_type": "display_data"
    }
   ],
   "source": [
    "plt.subplot(1, 2, 1)\n",
    "plt.hist(mmsa_df[\"total_population\"], density = True, bins = 30)\n",
    "plt.ylabel(\"Probability\")\n",
    "plt.xlabel(\"Total Population\")\n",
    "\n",
    "plt.subplot(1, 2, 2)\n",
    "plt.hist(mmsa_df[\"total_population_log\"], density = True, bins = 30)\n",
    "plt.ylabel(\"Probability\")\n",
    "plt.xlabel(\"Logged Total Population\")\n",
    "\n",
    "plt.tight_layout()\n",
    "plt.show()"
   ]
  },
  {
   "cell_type": "code",
   "execution_count": 31,
   "metadata": {},
   "outputs": [
    {
     "data": {
      "image/png": "[encoded data removed]",
      "text/plain": [
       "<Figure size 432x288 with 2 Axes>"
      ]
     },
     "metadata": {
      "needs_background": "light"
     },
     "output_type": "display_data"
    }
   ],
   "source": [
    "plt.subplot(1, 2, 1)\n",
    "plt.hist(mmsa_df[\"icu_beds\"], density = True, bins = 30)\n",
    "plt.ylabel(\"Probability\")\n",
    "plt.xlabel(\"ICU Beds\")\n",
    "\n",
    "plt.subplot(1, 2, 2)\n",
    "plt.hist(mmsa_df[\"icu_beds_log\"], density = True, bins = 30)\n",
    "plt.ylabel(\"Probability\")\n",
    "plt.xlabel(\"Logged ICU Beds\")\n",
    "\n",
    "plt.tight_layout()\n",
    "plt.show()"
   ]
  },
  {
   "cell_type": "code",
   "execution_count": 32,
   "metadata": {},
   "outputs": [
    {
     "data": {
      "image/png": "[encoded data removed]",
      "text/plain": [
       "<Figure size 432x288 with 2 Axes>"
      ]
     },
     "metadata": {
      "needs_background": "light"
     },
     "output_type": "display_data"
    }
   ],
   "source": [
    "plt.subplot(1, 2, 1)\n",
    "plt.hist(mmsa_df[\"hospitals\"], density = True, bins = 30)\n",
    "plt.ylabel(\"Probability\")\n",
    "plt.xlabel(\"Hospitals\")\n",
    "\n",
    "plt.subplot(1, 2, 2)\n",
    "plt.hist(mmsa_df[\"hospitals_log\"], density = True, bins = 30)\n",
    "plt.ylabel(\"Probability\")\n",
    "plt.xlabel(\"Logged Hospitals\")\n",
    "\n",
    "plt.tight_layout()\n",
    "plt.show()"
   ]
  },
  {
   "cell_type": "markdown",
   "metadata": {},
   "source": [
    "group by mtero"
   ]
  },
  {
   "cell_type": "markdown",
   "metadata": {},
   "source": [
    "the data look to be different just by initial observation of the grouped data"
   ]
  },
  {
   "cell_type": "code",
   "execution_count": 33,
   "metadata": {},
   "outputs": [
    {
     "data": {
      "text/html": [
       "<div>\n",
       "<style scoped>\n",
       "    .dataframe tbody tr th:only-of-type {\n",
       "        vertical-align: middle;\n",
       "    }\n",
       "\n",
       "    .dataframe tbody tr th {\n",
       "        vertical-align: top;\n",
       "    }\n",
       "\n",
       "    .dataframe thead tr th {\n",
       "        text-align: left;\n",
       "    }\n",
       "\n",
       "    .dataframe thead tr:last-of-type th {\n",
       "        text-align: right;\n",
       "    }\n",
       "</style>\n",
       "<table border=\"1\" class=\"dataframe\">\n",
       "  <thead>\n",
       "    <tr>\n",
       "      <th></th>\n",
       "      <th colspan=\"5\" halign=\"left\">total_at_risk_log</th>\n",
       "    </tr>\n",
       "    <tr>\n",
       "      <th></th>\n",
       "      <th>count</th>\n",
       "      <th>mean</th>\n",
       "      <th>std</th>\n",
       "      <th>var</th>\n",
       "      <th>sum</th>\n",
       "    </tr>\n",
       "    <tr>\n",
       "      <th>metro_div</th>\n",
       "      <th></th>\n",
       "      <th></th>\n",
       "      <th></th>\n",
       "      <th></th>\n",
       "      <th></th>\n",
       "    </tr>\n",
       "  </thead>\n",
       "  <tbody>\n",
       "    <tr>\n",
       "      <td>0</td>\n",
       "      <td>118</td>\n",
       "      <td>12.63</td>\n",
       "      <td>1.15</td>\n",
       "      <td>1.33</td>\n",
       "      <td>1490.82</td>\n",
       "    </tr>\n",
       "    <tr>\n",
       "      <td>1</td>\n",
       "      <td>17</td>\n",
       "      <td>13.81</td>\n",
       "      <td>0.74</td>\n",
       "      <td>0.54</td>\n",
       "      <td>234.81</td>\n",
       "    </tr>\n",
       "  </tbody>\n",
       "</table>\n",
       "</div>"
      ],
      "text/plain": [
       "          total_at_risk_log                            \n",
       "                      count   mean   std   var      sum\n",
       "metro_div                                              \n",
       "0                       118  12.63  1.15  1.33  1490.82\n",
       "1                        17  13.81  0.74  0.54   234.81"
      ]
     },
     "execution_count": 33,
     "metadata": {},
     "output_type": "execute_result"
    }
   ],
   "source": [
    "mmsa_df.groupby(\"metro_div\").agg({'total_at_risk_log':['count','mean','std','var','sum']}).round(2)"
   ]
  },
  {
   "cell_type": "markdown",
   "metadata": {},
   "source": [
    "Use Welch's t-test because the samples are different sizes and thus we asusme they have different variances"
   ]
  },
  {
   "cell_type": "markdown",
   "metadata": {},
   "source": [
    "The t test (also called Student’s T Test) compares two averages (means) and tells you if they are different from each other. The t test also tells you how significant the differences are; In other words it lets you know if those differences could have happened by chance."
   ]
  },
  {
   "cell_type": "code",
   "execution_count": 34,
   "metadata": {},
   "outputs": [],
   "source": [
    "mmsa_metro = mmsa_df.loc[mmsa_df[\"metro_div\"] == 1, \"total_at_risk_log\"]\n",
    "mmsa_non_metro = mmsa_df.loc[mmsa_df[\"metro_div\"] == 0, \"total_at_risk_log\"]"
   ]
  },
  {
   "cell_type": "code",
   "execution_count": 35,
   "metadata": {},
   "outputs": [
    {
     "name": "stdout",
     "output_type": "stream",
     "text": [
      "Null hypothesis: Metro and Non-Metro areas have similar means (H(0) = H(A))\n",
      "Alternative hypothesis: Metro and Non-Metro areas have different means (H(0) != H(A))\n",
      "\n",
      "\n",
      "T-stat:  5.666\n",
      "P-value:  0.0\n"
     ]
    }
   ],
   "source": [
    "t, p = scipy.stats.ttest_ind(mmsa_metro, mmsa_non_metro, equal_var = False)\n",
    "print(\"Null hypothesis: Metro and Non-Metro areas have similar means (H(0) = H(A))\")\n",
    "print(\"Alternative hypothesis: Metro and Non-Metro areas have different means (H(0) != H(A))\")\n",
    "print(\"\\n\")\n",
    "print(\"T-stat: \", t.round(3))\n",
    "print(\"P-value: \", p.round(3))"
   ]
  },
  {
   "cell_type": "markdown",
   "metadata": {},
   "source": [
    "Result: the means are statistically significantly different from each other. This means, metro areas, on average, are at higher risk.\n",
    "\n",
    "I am also surprised the means are statistically significant from each other considering the sample size of metro areas is quite small. "
   ]
  },
  {
   "cell_type": "markdown",
   "metadata": {},
   "source": [
    "### EDL:\n",
    " 1) How many metropolitan areas span multiple states?\n",
    " "
   ]
  },
  {
   "cell_type": "code",
   "execution_count": 36,
   "metadata": {},
   "outputs": [
    {
     "data": {
      "text/html": [
       "<div>\n",
       "<style scoped>\n",
       "    .dataframe tbody tr th:only-of-type {\n",
       "        vertical-align: middle;\n",
       "    }\n",
       "\n",
       "    .dataframe tbody tr th {\n",
       "        vertical-align: top;\n",
       "    }\n",
       "\n",
       "    .dataframe thead tr th {\n",
       "        text-align: left;\n",
       "    }\n",
       "\n",
       "    .dataframe thead tr:last-of-type th {\n",
       "        text-align: right;\n",
       "    }\n",
       "</style>\n",
       "<table border=\"1\" class=\"dataframe\">\n",
       "  <thead>\n",
       "    <tr>\n",
       "      <th></th>\n",
       "      <th colspan=\"5\" halign=\"left\">total_at_risk_log</th>\n",
       "    </tr>\n",
       "    <tr>\n",
       "      <th></th>\n",
       "      <th>count</th>\n",
       "      <th>mean</th>\n",
       "      <th>std</th>\n",
       "      <th>var</th>\n",
       "      <th>sum</th>\n",
       "    </tr>\n",
       "    <tr>\n",
       "      <th>multiple_states</th>\n",
       "      <th></th>\n",
       "      <th></th>\n",
       "      <th></th>\n",
       "      <th></th>\n",
       "      <th></th>\n",
       "    </tr>\n",
       "  </thead>\n",
       "  <tbody>\n",
       "    <tr>\n",
       "      <td>0</td>\n",
       "      <td>103</td>\n",
       "      <td>12.721176</td>\n",
       "      <td>1.180306</td>\n",
       "      <td>1.393123</td>\n",
       "      <td>1310.281179</td>\n",
       "    </tr>\n",
       "    <tr>\n",
       "      <td>1</td>\n",
       "      <td>32</td>\n",
       "      <td>12.979516</td>\n",
       "      <td>1.150706</td>\n",
       "      <td>1.324124</td>\n",
       "      <td>415.344518</td>\n",
       "    </tr>\n",
       "  </tbody>\n",
       "</table>\n",
       "</div>"
      ],
      "text/plain": [
       "                total_at_risk_log                                            \n",
       "                            count       mean       std       var          sum\n",
       "multiple_states                                                              \n",
       "0                             103  12.721176  1.180306  1.393123  1310.281179\n",
       "1                              32  12.979516  1.150706  1.324124   415.344518"
      ]
     },
     "execution_count": 36,
     "metadata": {},
     "output_type": "execute_result"
    }
   ],
   "source": [
    "mmsa_df.groupby(\"multiple_states\").agg({'total_at_risk_log':['count','mean','std','var','sum']})"
   ]
  },
  {
   "cell_type": "code",
   "execution_count": 37,
   "metadata": {},
   "outputs": [],
   "source": [
    "mmsa_mult_st = mmsa_df.loc[mmsa_df[\"multiple_states\"] == 1, \"total_at_risk_log\"]\n",
    "mmsa_one_st = mmsa_df.loc[mmsa_df[\"multiple_states\"] == 0, \"total_at_risk_log\"]"
   ]
  },
  {
   "cell_type": "code",
   "execution_count": 38,
   "metadata": {},
   "outputs": [
    {
     "name": "stdout",
     "output_type": "stream",
     "text": [
      "Null hypothesis: Metro and Non-Metro areas have similar means (H(0) = H(A))\n",
      "Alternative hypothesis: Metro and Non-Metro areas have different means (H(0) != H(A))\n",
      "\n",
      "\n",
      "T-stat:  -1.103\n",
      "P-value:  0.275\n"
     ]
    }
   ],
   "source": [
    "t, p = scipy.stats.ttest_ind(mmsa_one_st, mmsa_mult_st, equal_var = False)\n",
    "print(\"Null hypothesis: Metro and Non-Metro areas have similar means (H(0) = H(A))\")\n",
    "print(\"Alternative hypothesis: Metro and Non-Metro areas have different means (H(0) != H(A))\")\n",
    "print(\"\\n\")\n",
    "print(\"T-stat: \", t.round(3))\n",
    "print(\"P-value: \", p.round(3))"
   ]
  },
  {
   "cell_type": "markdown",
   "metadata": {},
   "source": [
    "Result: the means are not statistically significantly different from each other. This means, metro areas that span across multiple states are not different from metro that are completely in one state. \n",
    "\n",
    "I am not surprised the means are not statistically significant from each other because there is no underlying theory/background knowledge on if thes two groups are actually different from each other. "
   ]
  },
  {
   "cell_type": "markdown",
   "metadata": {},
   "source": [
    "bar chart of total population"
   ]
  },
  {
   "cell_type": "markdown",
   "metadata": {},
   "source": [
    "largst metro area? (this is the area you would expect to be highest at risk)"
   ]
  },
  {
   "cell_type": "code",
   "execution_count": 39,
   "metadata": {},
   "outputs": [
    {
     "data": {
      "text/html": [
       "<style  type=\"text/css\" >\n",
       "</style><table id=\"T_2b01db28_8963_11ea_bf05_a01d48e10c5c\" ><thead>    <tr>        <th class=\"blank level0\" ></th>        <th class=\"col_heading level0 col0\" >MMSA</th>        <th class=\"col_heading level0 col1\" >total_population</th>    </tr></thead><tbody>\n",
       "                <tr>\n",
       "                        <th id=\"T_2b01db28_8963_11ea_bf05_a01d48e10c5clevel0_row0\" class=\"row_heading level0 row0\" >0</th>\n",
       "                        <td id=\"T_2b01db28_8963_11ea_bf05_a01d48e10c5crow0_col0\" class=\"data row0 col0\" >New York-Jersey City-White Plains, NY-NJ, Metropolitan Division</td>\n",
       "                        <td id=\"T_2b01db28_8963_11ea_bf05_a01d48e10c5crow0_col1\" class=\"data row0 col1\" >11,337,076</td>\n",
       "            </tr>\n",
       "            <tr>\n",
       "                        <th id=\"T_2b01db28_8963_11ea_bf05_a01d48e10c5clevel0_row1\" class=\"row_heading level0 row1\" >1</th>\n",
       "                        <td id=\"T_2b01db28_8963_11ea_bf05_a01d48e10c5crow1_col0\" class=\"data row1 col0\" >Los Angeles-Long Beach-Anaheim, CA</td>\n",
       "                        <td id=\"T_2b01db28_8963_11ea_bf05_a01d48e10c5crow1_col1\" class=\"data row1 col1\" >10,454,714</td>\n",
       "            </tr>\n",
       "            <tr>\n",
       "                        <th id=\"T_2b01db28_8963_11ea_bf05_a01d48e10c5clevel0_row2\" class=\"row_heading level0 row2\" >2</th>\n",
       "                        <td id=\"T_2b01db28_8963_11ea_bf05_a01d48e10c5crow2_col0\" class=\"data row2 col0\" >Chicago-Naperville-Elgin, IL-IN-WI</td>\n",
       "                        <td id=\"T_2b01db28_8963_11ea_bf05_a01d48e10c5crow2_col1\" class=\"data row2 col1\" >6,839,764</td>\n",
       "            </tr>\n",
       "            <tr>\n",
       "                        <th id=\"T_2b01db28_8963_11ea_bf05_a01d48e10c5clevel0_row3\" class=\"row_heading level0 row3\" >3</th>\n",
       "                        <td id=\"T_2b01db28_8963_11ea_bf05_a01d48e10c5crow3_col0\" class=\"data row3 col0\" >Houston-The Woodlands-Sugar Land, TX</td>\n",
       "                        <td id=\"T_2b01db28_8963_11ea_bf05_a01d48e10c5crow3_col1\" class=\"data row3 col1\" >5,140,605</td>\n",
       "            </tr>\n",
       "            <tr>\n",
       "                        <th id=\"T_2b01db28_8963_11ea_bf05_a01d48e10c5clevel0_row4\" class=\"row_heading level0 row4\" >4</th>\n",
       "                        <td id=\"T_2b01db28_8963_11ea_bf05_a01d48e10c5crow4_col0\" class=\"data row4 col0\" >Miami-Fort Lauderdale-West Palm Beach, FL</td>\n",
       "                        <td id=\"T_2b01db28_8963_11ea_bf05_a01d48e10c5crow4_col1\" class=\"data row4 col1\" >4,929,318</td>\n",
       "            </tr>\n",
       "            <tr>\n",
       "                        <th id=\"T_2b01db28_8963_11ea_bf05_a01d48e10c5clevel0_row5\" class=\"row_heading level0 row5\" >5</th>\n",
       "                        <td id=\"T_2b01db28_8963_11ea_bf05_a01d48e10c5crow5_col0\" class=\"data row5 col0\" >Atlanta-Sandy Springs-Roswell, GA</td>\n",
       "                        <td id=\"T_2b01db28_8963_11ea_bf05_a01d48e10c5crow5_col1\" class=\"data row5 col1\" >4,470,723</td>\n",
       "            </tr>\n",
       "            <tr>\n",
       "                        <th id=\"T_2b01db28_8963_11ea_bf05_a01d48e10c5clevel0_row6\" class=\"row_heading level0 row6\" >6</th>\n",
       "                        <td id=\"T_2b01db28_8963_11ea_bf05_a01d48e10c5crow6_col0\" class=\"data row6 col0\" >Washington-Arlington-Alexandria, DC-VA-MD-WV, Metropolitan Division</td>\n",
       "                        <td id=\"T_2b01db28_8963_11ea_bf05_a01d48e10c5crow6_col1\" class=\"data row6 col1\" >3,786,785</td>\n",
       "            </tr>\n",
       "            <tr>\n",
       "                        <th id=\"T_2b01db28_8963_11ea_bf05_a01d48e10c5clevel0_row7\" class=\"row_heading level0 row7\" >7</th>\n",
       "                        <td id=\"T_2b01db28_8963_11ea_bf05_a01d48e10c5crow7_col0\" class=\"data row7 col0\" >Dallas-Plano-Irving, TX, Metropolitan Division</td>\n",
       "                        <td id=\"T_2b01db28_8963_11ea_bf05_a01d48e10c5crow7_col1\" class=\"data row7 col1\" >3,650,681</td>\n",
       "            </tr>\n",
       "            <tr>\n",
       "                        <th id=\"T_2b01db28_8963_11ea_bf05_a01d48e10c5clevel0_row8\" class=\"row_heading level0 row8\" >8</th>\n",
       "                        <td id=\"T_2b01db28_8963_11ea_bf05_a01d48e10c5crow8_col0\" class=\"data row8 col0\" >Phoenix-Mesa-Scottsdale, AZ</td>\n",
       "                        <td id=\"T_2b01db28_8963_11ea_bf05_a01d48e10c5crow8_col1\" class=\"data row8 col1\" >3,630,310</td>\n",
       "            </tr>\n",
       "            <tr>\n",
       "                        <th id=\"T_2b01db28_8963_11ea_bf05_a01d48e10c5clevel0_row9\" class=\"row_heading level0 row9\" >9</th>\n",
       "                        <td id=\"T_2b01db28_8963_11ea_bf05_a01d48e10c5crow9_col0\" class=\"data row9 col0\" >Riverside-San Bernardino-Ontario, CA</td>\n",
       "                        <td id=\"T_2b01db28_8963_11ea_bf05_a01d48e10c5crow9_col1\" class=\"data row9 col1\" >3,401,601</td>\n",
       "            </tr>\n",
       "    </tbody></table>"
      ],
      "text/plain": [
       "<pandas.io.formats.style.Styler at 0xb745b88>"
      ]
     },
     "execution_count": 39,
     "metadata": {},
     "output_type": "execute_result"
    }
   ],
   "source": [
    "tot_pop_top10 = mmsa_df.loc[:, [\"MMSA\",\"total_population\"]]\n",
    "tot_pop_top10 = tot_pop_top10.sort_values(\"total_population\").tail(10)\n",
    "\n",
    "(tot_pop_top10.sort_values(\"total_population\", ascending = False).reset_index().drop(\"index\", axis = 1)\n",
    " .style.format({\"total_population\": \"{:,.0f}\"}))"
   ]
  },
  {
   "cell_type": "code",
   "execution_count": 93,
   "metadata": {},
   "outputs": [
    {
     "data": {
      "image/png": "[encoded data removed]",
      "text/plain": [
       "<Figure size 432x288 with 1 Axes>"
      ]
     },
     "metadata": {
      "needs_background": "light"
     },
     "output_type": "display_data"
    }
   ],
   "source": [
    "# # Create bars\n",
    "# fig, ax = plt.subplots()\n",
    "# ax.barh(tot_pop_top10[\"MMSA\"], tot_pop_top10[\"total_population\"])\n",
    "# ax.get_xaxis().set_major_formatter(\n",
    "#     matplotlib.ticker.FuncFormatter(lambda x, p: format(int(x), ',')))\n",
    "# plt.title(\"Largest Metropolitan Divisions\")\n",
    "# plt.xticks(rotation=60)\n",
    "# plt.show()\n"
   ]
  },
  {
   "cell_type": "markdown",
   "metadata": {},
   "source": [
    "bar chart of total_at_risk"
   ]
  },
  {
   "cell_type": "code",
   "execution_count": 40,
   "metadata": {},
   "outputs": [
    {
     "data": {
      "text/html": [
       "<style  type=\"text/css\" >\n",
       "</style><table id=\"T_2ddc3954_8963_11ea_9533_a01d48e10c5c\" ><thead>    <tr>        <th class=\"blank level0\" ></th>        <th class=\"col_heading level0 col0\" >MMSA</th>        <th class=\"col_heading level0 col1\" >total_at_risk</th>    </tr></thead><tbody>\n",
       "                <tr>\n",
       "                        <th id=\"T_2ddc3954_8963_11ea_9533_a01d48e10c5clevel0_row0\" class=\"row_heading level0 row0\" >0</th>\n",
       "                        <td id=\"T_2ddc3954_8963_11ea_9533_a01d48e10c5crow0_col0\" class=\"data row0 col0\" >New York-Jersey City-White Plains, NY-NJ, Metropolitan Division</td>\n",
       "                        <td id=\"T_2ddc3954_8963_11ea_9533_a01d48e10c5crow0_col1\" class=\"data row0 col1\" >6,165,102</td>\n",
       "            </tr>\n",
       "            <tr>\n",
       "                        <th id=\"T_2ddc3954_8963_11ea_9533_a01d48e10c5clevel0_row1\" class=\"row_heading level0 row1\" >1</th>\n",
       "                        <td id=\"T_2ddc3954_8963_11ea_9533_a01d48e10c5crow1_col0\" class=\"data row1 col0\" >Los Angeles-Long Beach-Anaheim, CA</td>\n",
       "                        <td id=\"T_2ddc3954_8963_11ea_9533_a01d48e10c5crow1_col1\" class=\"data row1 col1\" >5,345,495</td>\n",
       "            </tr>\n",
       "            <tr>\n",
       "                        <th id=\"T_2ddc3954_8963_11ea_9533_a01d48e10c5clevel0_row2\" class=\"row_heading level0 row2\" >2</th>\n",
       "                        <td id=\"T_2ddc3954_8963_11ea_9533_a01d48e10c5crow2_col0\" class=\"data row2 col0\" >Chicago-Naperville-Elgin, IL-IN-WI</td>\n",
       "                        <td id=\"T_2ddc3954_8963_11ea_9533_a01d48e10c5crow2_col1\" class=\"data row2 col1\" >3,831,636</td>\n",
       "            </tr>\n",
       "            <tr>\n",
       "                        <th id=\"T_2ddc3954_8963_11ea_9533_a01d48e10c5clevel0_row3\" class=\"row_heading level0 row3\" >3</th>\n",
       "                        <td id=\"T_2ddc3954_8963_11ea_9533_a01d48e10c5crow3_col0\" class=\"data row3 col0\" >Houston-The Woodlands-Sugar Land, TX</td>\n",
       "                        <td id=\"T_2ddc3954_8963_11ea_9533_a01d48e10c5crow3_col1\" class=\"data row3 col1\" >2,869,486</td>\n",
       "            </tr>\n",
       "            <tr>\n",
       "                        <th id=\"T_2ddc3954_8963_11ea_9533_a01d48e10c5clevel0_row4\" class=\"row_heading level0 row4\" >4</th>\n",
       "                        <td id=\"T_2ddc3954_8963_11ea_9533_a01d48e10c5crow4_col0\" class=\"data row4 col0\" >Miami-Fort Lauderdale-West Palm Beach, FL</td>\n",
       "                        <td id=\"T_2ddc3954_8963_11ea_9533_a01d48e10c5crow4_col1\" class=\"data row4 col1\" >2,749,081</td>\n",
       "            </tr>\n",
       "            <tr>\n",
       "                        <th id=\"T_2ddc3954_8963_11ea_9533_a01d48e10c5clevel0_row5\" class=\"row_heading level0 row5\" >5</th>\n",
       "                        <td id=\"T_2ddc3954_8963_11ea_9533_a01d48e10c5crow5_col0\" class=\"data row5 col0\" >Atlanta-Sandy Springs-Roswell, GA</td>\n",
       "                        <td id=\"T_2ddc3954_8963_11ea_9533_a01d48e10c5crow5_col1\" class=\"data row5 col1\" >2,467,392</td>\n",
       "            </tr>\n",
       "            <tr>\n",
       "                        <th id=\"T_2ddc3954_8963_11ea_9533_a01d48e10c5clevel0_row6\" class=\"row_heading level0 row6\" >6</th>\n",
       "                        <td id=\"T_2ddc3954_8963_11ea_9533_a01d48e10c5crow6_col0\" class=\"data row6 col0\" >Phoenix-Mesa-Scottsdale, AZ</td>\n",
       "                        <td id=\"T_2ddc3954_8963_11ea_9533_a01d48e10c5crow6_col1\" class=\"data row6 col1\" >2,096,504</td>\n",
       "            </tr>\n",
       "            <tr>\n",
       "                        <th id=\"T_2ddc3954_8963_11ea_9533_a01d48e10c5clevel0_row7\" class=\"row_heading level0 row7\" >7</th>\n",
       "                        <td id=\"T_2ddc3954_8963_11ea_9533_a01d48e10c5crow7_col0\" class=\"data row7 col0\" >Riverside-San Bernardino-Ontario, CA</td>\n",
       "                        <td id=\"T_2ddc3954_8963_11ea_9533_a01d48e10c5crow7_col1\" class=\"data row7 col1\" >1,925,986</td>\n",
       "            </tr>\n",
       "            <tr>\n",
       "                        <th id=\"T_2ddc3954_8963_11ea_9533_a01d48e10c5clevel0_row8\" class=\"row_heading level0 row8\" >8</th>\n",
       "                        <td id=\"T_2ddc3954_8963_11ea_9533_a01d48e10c5crow8_col0\" class=\"data row8 col0\" >Dallas-Plano-Irving, TX, Metropolitan Division</td>\n",
       "                        <td id=\"T_2ddc3954_8963_11ea_9533_a01d48e10c5crow8_col1\" class=\"data row8 col1\" >1,916,243</td>\n",
       "            </tr>\n",
       "            <tr>\n",
       "                        <th id=\"T_2ddc3954_8963_11ea_9533_a01d48e10c5clevel0_row9\" class=\"row_heading level0 row9\" >9</th>\n",
       "                        <td id=\"T_2ddc3954_8963_11ea_9533_a01d48e10c5crow9_col0\" class=\"data row9 col0\" >Washington-Arlington-Alexandria, DC-VA-MD-WV, Metropolitan Division</td>\n",
       "                        <td id=\"T_2ddc3954_8963_11ea_9533_a01d48e10c5crow9_col1\" class=\"data row9 col1\" >1,894,529</td>\n",
       "            </tr>\n",
       "    </tbody></table>"
      ],
      "text/plain": [
       "<pandas.io.formats.style.Styler at 0xbaa3a08>"
      ]
     },
     "execution_count": 40,
     "metadata": {},
     "output_type": "execute_result"
    }
   ],
   "source": [
    "tot_at_risk_top10 = mmsa_df.loc[:, [\"MMSA\",\"total_at_risk\"]]\n",
    "tot_at_risk_top10 = tot_at_risk_top10.sort_values(\"total_at_risk\").tail(10)\n",
    "\n",
    "(tot_at_risk_top10.sort_values(\"total_at_risk\", ascending = False).reset_index().drop(\"index\", axis = 1)\n",
    " .style.format({\"total_at_risk\": \"{:,.0f}\"}))"
   ]
  },
  {
   "cell_type": "markdown",
   "metadata": {},
   "source": [
    "correlation between total_population and total_at_risk"
   ]
  },
  {
   "cell_type": "code",
   "execution_count": 41,
   "metadata": {},
   "outputs": [
    {
     "data": {
      "text/plain": [
       "0.9972455900052831"
      ]
     },
     "execution_count": 41,
     "metadata": {},
     "output_type": "execute_result"
    }
   ],
   "source": [
    "mmsa_df['total_population'].corr(mmsa_df['total_at_risk'])"
   ]
  },
  {
   "cell_type": "code",
   "execution_count": 42,
   "metadata": {},
   "outputs": [
    {
     "data": {
      "text/plain": [
       "0.9964553854668807"
      ]
     },
     "execution_count": 42,
     "metadata": {},
     "output_type": "execute_result"
    }
   ],
   "source": [
    "mmsa_df['total_population_log'].corr(mmsa_df['total_at_risk_log'])"
   ]
  },
  {
   "cell_type": "markdown",
   "metadata": {},
   "source": [
    "look at icue_beds and hospitals"
   ]
  },
  {
   "cell_type": "code",
   "execution_count": 43,
   "metadata": {},
   "outputs": [
    {
     "data": {
      "text/plain": [
       "0.9690622628855573"
      ]
     },
     "execution_count": 43,
     "metadata": {},
     "output_type": "execute_result"
    }
   ],
   "source": [
    "mmsa_df['icu_beds'].corr(mmsa_df['total_at_risk'])"
   ]
  },
  {
   "cell_type": "code",
   "execution_count": 44,
   "metadata": {},
   "outputs": [
    {
     "data": {
      "text/plain": [
       "0.9431210012654813"
      ]
     },
     "execution_count": 44,
     "metadata": {},
     "output_type": "execute_result"
    }
   ],
   "source": [
    "mmsa_df['icu_beds_log'].corr(mmsa_df['total_at_risk_log'])"
   ]
  },
  {
   "cell_type": "code",
   "execution_count": 45,
   "metadata": {
    "scrolled": true
   },
   "outputs": [
    {
     "data": {
      "text/plain": [
       "0.9543343621676139"
      ]
     },
     "execution_count": 45,
     "metadata": {},
     "output_type": "execute_result"
    }
   ],
   "source": [
    "mmsa_df['hospitals'].corr(mmsa_df['total_at_risk'])"
   ]
  },
  {
   "cell_type": "code",
   "execution_count": 46,
   "metadata": {},
   "outputs": [
    {
     "data": {
      "text/plain": [
       "0.9127880266881997"
      ]
     },
     "execution_count": 46,
     "metadata": {},
     "output_type": "execute_result"
    }
   ],
   "source": [
    "mmsa_df['hospitals_log'].corr(mmsa_df['total_at_risk_log'])"
   ]
  },
  {
   "cell_type": "markdown",
   "metadata": {},
   "source": [
    "build model:"
   ]
  },
  {
   "cell_type": "code",
   "execution_count": 47,
   "metadata": {},
   "outputs": [
    {
     "data": {
      "text/plain": [
       "Index(['MMSA', 'total_percent_at_risk', 'high_risk_per_ICU_bed',\n",
       "       'high_risk_per_hospital', 'icu_beds', 'hospitals', 'total_at_risk',\n",
       "       'total_population', 'metro_div', 'multiple_states', 'total_at_risk_log',\n",
       "       'total_population_log', 'icu_beds_log', 'hospitals_log'],\n",
       "      dtype='object')"
      ]
     },
     "execution_count": 47,
     "metadata": {},
     "output_type": "execute_result"
    }
   ],
   "source": [
    "mmsa_df.columns"
   ]
  },
  {
   "cell_type": "markdown",
   "metadata": {},
   "source": [
    "split into train and test"
   ]
  },
  {
   "cell_type": "code",
   "execution_count": 99,
   "metadata": {},
   "outputs": [],
   "source": [
    "mmsa_df_model = mmsa_df.copy()\n",
    "random.seed(19)\n",
    "mmsa_df_model[\"split\"] = [random.random() for k in mmsa_df_model.index]"
   ]
  },
  {
   "cell_type": "code",
   "execution_count": 100,
   "metadata": {},
   "outputs": [
    {
     "name": "stdout",
     "output_type": "stream",
     "text": [
      "(135, 14)\n",
      "(115, 15)\n",
      "(20, 15)\n"
     ]
    }
   ],
   "source": [
    "train_df = mmsa_df_model[mmsa_df_model[\"split\"] <= 0.8]\n",
    "test_df = mmsa_df_model[mmsa_df_model[\"split\"] > 0.8]\n",
    "print(mmsa_df.shape)\n",
    "print(train_df.shape)\n",
    "print(test_df.shape)"
   ]
  },
  {
   "cell_type": "code",
   "execution_count": 101,
   "metadata": {},
   "outputs": [
    {
     "name": "stdout",
     "output_type": "stream",
     "text": [
      "(115, 5)\n",
      "(115, 1)\n",
      "(20, 5)\n",
      "(20, 1)\n"
     ]
    }
   ],
   "source": [
    "train_x = train_df[[\"total_population_log\",\"hospitals_log\",\"icu_beds_log\",\"metro_div\",\"multiple_states\"]]\n",
    "train_y = train_df[[\"total_at_risk_log\"]]\n",
    "test_x = test_df[[\"total_population_log\",\"hospitals_log\",\"icu_beds_log\",\"metro_div\",\"multiple_states\"]]\n",
    "test_y = test_df[[\"total_at_risk_log\"]]\n",
    "\n",
    "print(train_x.shape)\n",
    "print(train_y.shape)\n",
    "print(test_x.shape)\n",
    "print(test_y.shape)"
   ]
  },
  {
   "cell_type": "markdown",
   "metadata": {},
   "source": [
    "estimate OLS model"
   ]
  },
  {
   "cell_type": "code",
   "execution_count": 102,
   "metadata": {},
   "outputs": [],
   "source": [
    "import statsmodels.api as sm\n",
    "from statsmodels.stats.outliers_influence import variance_inflation_factor"
   ]
  },
  {
   "cell_type": "code",
   "execution_count": 103,
   "metadata": {},
   "outputs": [
    {
     "data": {
      "text/html": [
       "<table class=\"simpletable\">\n",
       "<caption>OLS Regression Results</caption>\n",
       "<tr>\n",
       "  <th>Dep. Variable:</th>    <td>total_at_risk_log</td> <th>  R-squared:         </th> <td>   0.994</td> \n",
       "</tr>\n",
       "<tr>\n",
       "  <th>Model:</th>                   <td>OLS</td>        <th>  Adj. R-squared:    </th> <td>   0.994</td> \n",
       "</tr>\n",
       "<tr>\n",
       "  <th>Method:</th>             <td>Least Squares</td>   <th>  F-statistic:       </th> <td>   3847.</td> \n",
       "</tr>\n",
       "<tr>\n",
       "  <th>Date:</th>             <td>Tue, 28 Apr 2020</td>  <th>  Prob (F-statistic):</th> <td>8.26e-121</td>\n",
       "</tr>\n",
       "<tr>\n",
       "  <th>Time:</th>                 <td>10:22:23</td>      <th>  Log-Likelihood:    </th> <td>  122.38</td> \n",
       "</tr>\n",
       "<tr>\n",
       "  <th>No. Observations:</th>      <td>   115</td>       <th>  AIC:               </th> <td>  -232.8</td> \n",
       "</tr>\n",
       "<tr>\n",
       "  <th>Df Residuals:</th>          <td>   109</td>       <th>  BIC:               </th> <td>  -216.3</td> \n",
       "</tr>\n",
       "<tr>\n",
       "  <th>Df Model:</th>              <td>     5</td>       <th>                     </th>     <td> </td>    \n",
       "</tr>\n",
       "<tr>\n",
       "  <th>Covariance Type:</th>      <td>nonrobust</td>     <th>                     </th>     <td> </td>    \n",
       "</tr>\n",
       "</table>\n",
       "<table class=\"simpletable\">\n",
       "<tr>\n",
       "            <td></td>              <th>coef</th>     <th>std err</th>      <th>t</th>      <th>P>|t|</th>  <th>[0.025</th>    <th>0.975]</th>  \n",
       "</tr>\n",
       "<tr>\n",
       "  <th>const</th>                <td>    0.3242</td> <td>    0.230</td> <td>    1.409</td> <td> 0.162</td> <td>   -0.132</td> <td>    0.780</td>\n",
       "</tr>\n",
       "<tr>\n",
       "  <th>total_population_log</th> <td>    0.9054</td> <td>    0.025</td> <td>   36.668</td> <td> 0.000</td> <td>    0.856</td> <td>    0.954</td>\n",
       "</tr>\n",
       "<tr>\n",
       "  <th>hospitals_log</th>        <td>   -0.0016</td> <td>    0.022</td> <td>   -0.071</td> <td> 0.943</td> <td>   -0.046</td> <td>    0.043</td>\n",
       "</tr>\n",
       "<tr>\n",
       "  <th>icu_beds_log</th>         <td>    0.0814</td> <td>    0.020</td> <td>    4.097</td> <td> 0.000</td> <td>    0.042</td> <td>    0.121</td>\n",
       "</tr>\n",
       "<tr>\n",
       "  <th>metro_div</th>            <td>   -0.0360</td> <td>    0.028</td> <td>   -1.287</td> <td> 0.201</td> <td>   -0.092</td> <td>    0.019</td>\n",
       "</tr>\n",
       "<tr>\n",
       "  <th>multiple_states</th>      <td>    0.0311</td> <td>    0.019</td> <td>    1.646</td> <td> 0.103</td> <td>   -0.006</td> <td>    0.069</td>\n",
       "</tr>\n",
       "</table>\n",
       "<table class=\"simpletable\">\n",
       "<tr>\n",
       "  <th>Omnibus:</th>       <td> 3.778</td> <th>  Durbin-Watson:     </th> <td>   1.650</td>\n",
       "</tr>\n",
       "<tr>\n",
       "  <th>Prob(Omnibus):</th> <td> 0.151</td> <th>  Jarque-Bera (JB):  </th> <td>   3.262</td>\n",
       "</tr>\n",
       "<tr>\n",
       "  <th>Skew:</th>          <td>-0.302</td> <th>  Prob(JB):          </th> <td>   0.196</td>\n",
       "</tr>\n",
       "<tr>\n",
       "  <th>Kurtosis:</th>      <td> 3.563</td> <th>  Cond. No.          </th> <td>    424.</td>\n",
       "</tr>\n",
       "</table><br/><br/>Warnings:<br/>[1] Standard Errors assume that the covariance matrix of the errors is correctly specified."
      ],
      "text/plain": [
       "<class 'statsmodels.iolib.summary.Summary'>\n",
       "\"\"\"\n",
       "                            OLS Regression Results                            \n",
       "==============================================================================\n",
       "Dep. Variable:      total_at_risk_log   R-squared:                       0.994\n",
       "Model:                            OLS   Adj. R-squared:                  0.994\n",
       "Method:                 Least Squares   F-statistic:                     3847.\n",
       "Date:                Tue, 28 Apr 2020   Prob (F-statistic):          8.26e-121\n",
       "Time:                        10:22:23   Log-Likelihood:                 122.38\n",
       "No. Observations:                 115   AIC:                            -232.8\n",
       "Df Residuals:                     109   BIC:                            -216.3\n",
       "Df Model:                           5                                         \n",
       "Covariance Type:            nonrobust                                         \n",
       "========================================================================================\n",
       "                           coef    std err          t      P>|t|      [0.025      0.975]\n",
       "----------------------------------------------------------------------------------------\n",
       "const                    0.3242      0.230      1.409      0.162      -0.132       0.780\n",
       "total_population_log     0.9054      0.025     36.668      0.000       0.856       0.954\n",
       "hospitals_log           -0.0016      0.022     -0.071      0.943      -0.046       0.043\n",
       "icu_beds_log             0.0814      0.020      4.097      0.000       0.042       0.121\n",
       "metro_div               -0.0360      0.028     -1.287      0.201      -0.092       0.019\n",
       "multiple_states          0.0311      0.019      1.646      0.103      -0.006       0.069\n",
       "==============================================================================\n",
       "Omnibus:                        3.778   Durbin-Watson:                   1.650\n",
       "Prob(Omnibus):                  0.151   Jarque-Bera (JB):                3.262\n",
       "Skew:                          -0.302   Prob(JB):                        0.196\n",
       "Kurtosis:                       3.563   Cond. No.                         424.\n",
       "==============================================================================\n",
       "\n",
       "Warnings:\n",
       "[1] Standard Errors assume that the covariance matrix of the errors is correctly specified.\n",
       "\"\"\""
      ]
     },
     "execution_count": 103,
     "metadata": {},
     "output_type": "execute_result"
    }
   ],
   "source": [
    "# statsmodels function doesn't include a constant term, so, add a constant term to the equation.\n",
    "X = sm.add_constant(train_x)\n",
    "model = sm.OLS(train_y, X).fit() ## sm.OLS(output, input)\n",
    "predictions = model.predict(sm.add_constant(test_x))\n",
    "\n",
    "# Print out the statistics\n",
    "model.summary()"
   ]
  },
  {
   "cell_type": "code",
   "execution_count": 104,
   "metadata": {},
   "outputs": [
    {
     "data": {
      "text/plain": [
       "const                   828.645829\n",
       "total_population_log     12.230192\n",
       "hospitals_log             5.835775\n",
       "icu_beds_log              8.163369\n",
       "metro_div                 1.145753\n",
       "multiple_states           1.004478\n",
       "dtype: float64"
      ]
     },
     "execution_count": 104,
     "metadata": {},
     "output_type": "execute_result"
    }
   ],
   "source": [
    "pd.Series([variance_inflation_factor(X.values, i) \n",
    "           for i in range(X.shape[1])], \n",
    "          index = X.columns)"
   ]
  },
  {
   "cell_type": "code",
   "execution_count": 105,
   "metadata": {},
   "outputs": [
    {
     "name": "stdout",
     "output_type": "stream",
     "text": [
      "Mean Absolute Error:  0.08532\n"
     ]
    }
   ],
   "source": [
    "# Calculate the absolute errors\n",
    "errors = abs(predictions - test_y.iloc[:, 0])\n",
    "\n",
    "# Print out the mean absolute error (mae)\n",
    "print(\"Mean Absolute Error: \", round(np.mean(errors), 5))"
   ]
  },
  {
   "cell_type": "code",
   "execution_count": 106,
   "metadata": {},
   "outputs": [
    {
     "name": "stdout",
     "output_type": "stream",
     "text": [
      "(115, 4)\n",
      "(115, 1)\n",
      "(20, 4)\n",
      "(20, 1)\n"
     ]
    }
   ],
   "source": [
    "train_x = train_df[[\"total_population_log\",\"icu_beds_log\",\"metro_div\",\"multiple_states\"]]\n",
    "train_y = train_df[[\"total_at_risk_log\"]]\n",
    "test_x = test_df[[\"total_population_log\",\"icu_beds_log\",\"metro_div\",\"multiple_states\"]]\n",
    "test_y = test_df[[\"total_at_risk_log\"]]\n",
    "\n",
    "print(train_x.shape)\n",
    "print(train_y.shape)\n",
    "print(test_x.shape)\n",
    "print(test_y.shape)"
   ]
  },
  {
   "cell_type": "code",
   "execution_count": 107,
   "metadata": {},
   "outputs": [
    {
     "data": {
      "text/html": [
       "<table class=\"simpletable\">\n",
       "<caption>OLS Regression Results</caption>\n",
       "<tr>\n",
       "  <th>Dep. Variable:</th>    <td>total_at_risk_log</td> <th>  R-squared:         </th> <td>   0.994</td> \n",
       "</tr>\n",
       "<tr>\n",
       "  <th>Model:</th>                   <td>OLS</td>        <th>  Adj. R-squared:    </th> <td>   0.994</td> \n",
       "</tr>\n",
       "<tr>\n",
       "  <th>Method:</th>             <td>Least Squares</td>   <th>  F-statistic:       </th> <td>   4852.</td> \n",
       "</tr>\n",
       "<tr>\n",
       "  <th>Date:</th>             <td>Tue, 28 Apr 2020</td>  <th>  Prob (F-statistic):</th> <td>1.11e-122</td>\n",
       "</tr>\n",
       "<tr>\n",
       "  <th>Time:</th>                 <td>10:22:30</td>      <th>  Log-Likelihood:    </th> <td>  122.38</td> \n",
       "</tr>\n",
       "<tr>\n",
       "  <th>No. Observations:</th>      <td>   115</td>       <th>  AIC:               </th> <td>  -234.8</td> \n",
       "</tr>\n",
       "<tr>\n",
       "  <th>Df Residuals:</th>          <td>   110</td>       <th>  BIC:               </th> <td>  -221.0</td> \n",
       "</tr>\n",
       "<tr>\n",
       "  <th>Df Model:</th>              <td>     4</td>       <th>                     </th>     <td> </td>    \n",
       "</tr>\n",
       "<tr>\n",
       "  <th>Covariance Type:</th>      <td>nonrobust</td>     <th>                     </th>     <td> </td>    \n",
       "</tr>\n",
       "</table>\n",
       "<table class=\"simpletable\">\n",
       "<tr>\n",
       "            <td></td>              <th>coef</th>     <th>std err</th>      <th>t</th>      <th>P>|t|</th>  <th>[0.025</th>    <th>0.975]</th>  \n",
       "</tr>\n",
       "<tr>\n",
       "  <th>const</th>                <td>    0.3346</td> <td>    0.178</td> <td>    1.875</td> <td> 0.063</td> <td>   -0.019</td> <td>    0.688</td>\n",
       "</tr>\n",
       "<tr>\n",
       "  <th>total_population_log</th> <td>    0.9044</td> <td>    0.020</td> <td>   44.263</td> <td> 0.000</td> <td>    0.864</td> <td>    0.945</td>\n",
       "</tr>\n",
       "<tr>\n",
       "  <th>icu_beds_log</th>         <td>    0.0812</td> <td>    0.020</td> <td>    4.130</td> <td> 0.000</td> <td>    0.042</td> <td>    0.120</td>\n",
       "</tr>\n",
       "<tr>\n",
       "  <th>metro_div</th>            <td>   -0.0359</td> <td>    0.028</td> <td>   -1.291</td> <td> 0.199</td> <td>   -0.091</td> <td>    0.019</td>\n",
       "</tr>\n",
       "<tr>\n",
       "  <th>multiple_states</th>      <td>    0.0311</td> <td>    0.019</td> <td>    1.653</td> <td> 0.101</td> <td>   -0.006</td> <td>    0.068</td>\n",
       "</tr>\n",
       "</table>\n",
       "<table class=\"simpletable\">\n",
       "<tr>\n",
       "  <th>Omnibus:</th>       <td> 3.694</td> <th>  Durbin-Watson:     </th> <td>   1.649</td>\n",
       "</tr>\n",
       "<tr>\n",
       "  <th>Prob(Omnibus):</th> <td> 0.158</td> <th>  Jarque-Bera (JB):  </th> <td>   3.169</td>\n",
       "</tr>\n",
       "<tr>\n",
       "  <th>Skew:</th>          <td>-0.298</td> <th>  Prob(JB):          </th> <td>   0.205</td>\n",
       "</tr>\n",
       "<tr>\n",
       "  <th>Kurtosis:</th>      <td> 3.554</td> <th>  Cond. No.          </th> <td>    327.</td>\n",
       "</tr>\n",
       "</table><br/><br/>Warnings:<br/>[1] Standard Errors assume that the covariance matrix of the errors is correctly specified."
      ],
      "text/plain": [
       "<class 'statsmodels.iolib.summary.Summary'>\n",
       "\"\"\"\n",
       "                            OLS Regression Results                            \n",
       "==============================================================================\n",
       "Dep. Variable:      total_at_risk_log   R-squared:                       0.994\n",
       "Model:                            OLS   Adj. R-squared:                  0.994\n",
       "Method:                 Least Squares   F-statistic:                     4852.\n",
       "Date:                Tue, 28 Apr 2020   Prob (F-statistic):          1.11e-122\n",
       "Time:                        10:22:30   Log-Likelihood:                 122.38\n",
       "No. Observations:                 115   AIC:                            -234.8\n",
       "Df Residuals:                     110   BIC:                            -221.0\n",
       "Df Model:                           4                                         \n",
       "Covariance Type:            nonrobust                                         \n",
       "========================================================================================\n",
       "                           coef    std err          t      P>|t|      [0.025      0.975]\n",
       "----------------------------------------------------------------------------------------\n",
       "const                    0.3346      0.178      1.875      0.063      -0.019       0.688\n",
       "total_population_log     0.9044      0.020     44.263      0.000       0.864       0.945\n",
       "icu_beds_log             0.0812      0.020      4.130      0.000       0.042       0.120\n",
       "metro_div               -0.0359      0.028     -1.291      0.199      -0.091       0.019\n",
       "multiple_states          0.0311      0.019      1.653      0.101      -0.006       0.068\n",
       "==============================================================================\n",
       "Omnibus:                        3.694   Durbin-Watson:                   1.649\n",
       "Prob(Omnibus):                  0.158   Jarque-Bera (JB):                3.169\n",
       "Skew:                          -0.298   Prob(JB):                        0.205\n",
       "Kurtosis:                       3.554   Cond. No.                         327.\n",
       "==============================================================================\n",
       "\n",
       "Warnings:\n",
       "[1] Standard Errors assume that the covariance matrix of the errors is correctly specified.\n",
       "\"\"\""
      ]
     },
     "execution_count": 107,
     "metadata": {},
     "output_type": "execute_result"
    }
   ],
   "source": [
    "# statsmodels function doesn't include a constant term, so, add a constant term to the equation.\n",
    "X = sm.add_constant(train_x)\n",
    "model = sm.OLS(train_y, X).fit() ## sm.OLS(output, input)\n",
    "\n",
    "predictions = model.predict(sm.add_constant(test_x))\n",
    "\n",
    "# Print out the statistics\n",
    "model.summary()"
   ]
  },
  {
   "cell_type": "code",
   "execution_count": 108,
   "metadata": {},
   "outputs": [
    {
     "data": {
      "text/plain": [
       "const                   502.651173\n",
       "total_population_log      8.451723\n",
       "icu_beds_log              8.077597\n",
       "metro_div                 1.140099\n",
       "multiple_states           1.004167\n",
       "dtype: float64"
      ]
     },
     "execution_count": 108,
     "metadata": {},
     "output_type": "execute_result"
    }
   ],
   "source": [
    "pd.Series([variance_inflation_factor(X.values, i) \n",
    "           for i in range(X.shape[1])], \n",
    "          index = X.columns)"
   ]
  },
  {
   "cell_type": "code",
   "execution_count": 109,
   "metadata": {},
   "outputs": [
    {
     "name": "stdout",
     "output_type": "stream",
     "text": [
      "Mean Absolute Error:  0.08542\n"
     ]
    }
   ],
   "source": [
    "# Calculate the absolute errors\n",
    "errors = abs(predictions - test_y.iloc[:, 0])\n",
    "\n",
    "# Print out the mean absolute error (mae)\n",
    "print(\"Mean Absolute Error: \", round(np.mean(errors), 5))"
   ]
  },
  {
   "cell_type": "markdown",
   "metadata": {},
   "source": [
    "MAE increased from 0.08532 to 0.08542"
   ]
  },
  {
   "cell_type": "markdown",
   "metadata": {},
   "source": [
    "Train a Random Forest Model:"
   ]
  },
  {
   "cell_type": "code",
   "execution_count": 173,
   "metadata": {},
   "outputs": [],
   "source": [
    "# Import the model we are using\n",
    "from sklearn.ensemble import RandomForestRegressor\n",
    "\n",
    "# Instantiate model with 1000 decision trees\n",
    "rf = RandomForestRegressor(n_estimators = 100, random_state = 42)\n",
    "\n",
    "# Train the model on training data\n",
    "rf.fit(train_x, train_y.iloc[:,0])\n",
    "\n",
    "predictions_rf = rf.predict(test_x)"
   ]
  },
  {
   "cell_type": "code",
   "execution_count": 174,
   "metadata": {},
   "outputs": [
    {
     "name": "stdout",
     "output_type": "stream",
     "text": [
      "Mean Absolute Error:  0.10905\n"
     ]
    }
   ],
   "source": [
    "# Calculate the absolute errors\n",
    "errors = abs(predictions_rf - test_y.iloc[:, 0])\n",
    "\n",
    "# Print out the mean absolute error (mae)\n",
    "print(\"Mean Absolute Error: \", round(np.mean(errors), 5))"
   ]
  },
  {
   "cell_type": "code",
   "execution_count": 177,
   "metadata": {},
   "outputs": [],
   "source": [
    "# Import the model we are using\n",
    "from sklearn.ensemble import RandomForestRegressor\n",
    "\n",
    "# Instantiate model with 1000 decision trees\n",
    "rf = RandomForestRegressor(n_estimators = 1000,\n",
    "                           min_samples_split = 3,\n",
    "                           min_samples_leaf = 2,\n",
    "                           min_impurity_decrease = 0.0001,\n",
    "                           random_state = 42\n",
    "                          )\n",
    "\n",
    "# Train the model on training data\n",
    "rf.fit(train_x, train_y.iloc[:,0])\n",
    "\n",
    "predictions_rf = rf.predict(test_x)"
   ]
  },
  {
   "cell_type": "markdown",
   "metadata": {},
   "source": [
    "with a small sample and only 4 features, we shouldn't need to worry about tuning other parameters, as parameter tuning is not the focus of this project."
   ]
  },
  {
   "cell_type": "code",
   "execution_count": 178,
   "metadata": {},
   "outputs": [
    {
     "name": "stdout",
     "output_type": "stream",
     "text": [
      "Mean Absolute Error:  0.13363\n"
     ]
    }
   ],
   "source": [
    "# Calculate the absolute errors\n",
    "errors = abs(predictions_rf - test_y.iloc[:, 0])\n",
    "\n",
    "# Print out the mean absolute error (mae)\n",
    "print(\"Mean Absolute Error: \", round(np.mean(errors), 5))"
   ]
  }
 ],
 "metadata": {
  "kernelspec": {
   "display_name": "Python 3",
   "language": "python",
   "name": "python3"
  },
  "language_info": {
   "codemirror_mode": {
    "name": "ipython",
    "version": 3
   },
   "file_extension": ".py",
   "mimetype": "text/x-python",
   "name": "python",
   "nbconvert_exporter": "python",
   "pygments_lexer": "ipython3",
   "version": "3.7.4"
  }
 },
 "nbformat": 4,
 "nbformat_minor": 2
}
