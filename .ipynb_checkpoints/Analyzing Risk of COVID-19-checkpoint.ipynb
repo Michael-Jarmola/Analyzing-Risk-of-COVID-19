{
 "cells": [
  {
   "cell_type": "markdown",
   "metadata": {},
   "source": [
    "This notebook explores, analyzes, and models at-risk MMSA (Metropolitan or Micropolitan Statistical Areas) in the U.S. The goal of this notebook is to demonstrate data manipulation on real-world, messy data, and to build simple models capturing much of the pattern in the data. This notebook outlines a pretty straightforward data science process, from conceiving an idea to relaying model results.   \n",
    "\n",
    "The dataset analyzed is from: https://github.com/fivethirtyeight/data/tree/master/covid-geography.\n",
    "\n",
    "This notebook is purely a demonstration of a data science project, and is not meant to contest the analysis or findings of the original article (https://fivethirtyeight.com/features/how-one-high-risk-community-in-rural-south-carolina-is-bracing-for-covid-19/) for which this dataset was used.  \n",
    "\n",
    "Hope you enjoy this project!"
   ]
  },
  {
   "cell_type": "code",
   "execution_count": 1,
   "metadata": {},
   "outputs": [],
   "source": [
    "import pandas as pd\n",
    "import matplotlib.pyplot as plt\n",
    "import numpy as np\n",
    "import scipy.stats\n",
    "import random\n",
    "import statsmodels.api as sm\n",
    "from statsmodels.stats.outliers_influence import variance_inflation_factor\n",
    "from sklearn.ensemble import RandomForestRegressor\n",
    "\n",
    "pd.options.display.max_rows = 999 # to display all rows\n",
    "pd.options.display.max_columns = 999 # to display all columns"
   ]
  },
  {
   "cell_type": "markdown",
   "metadata": {},
   "source": [
    "We first read in the file."
   ]
  },
  {
   "cell_type": "code",
   "execution_count": 2,
   "metadata": {},
   "outputs": [],
   "source": [
    "mmsa_df = pd.read_csv(\"Data/mmsa-icu-beds.txt\", sep = \",\")"
   ]
  },
  {
   "cell_type": "markdown",
   "metadata": {},
   "source": [
    "Let's quickly inspect our dataset."
   ]
  },
  {
   "cell_type": "code",
   "execution_count": 3,
   "metadata": {},
   "outputs": [
    {
     "name": "stdout",
     "output_type": "stream",
     "text": [
      "<class 'pandas.core.frame.DataFrame'>\n",
      "RangeIndex: 136 entries, 0 to 135\n",
      "Data columns (total 7 columns):\n",
      "MMSA                      136 non-null object\n",
      "total_percent_at_risk     136 non-null object\n",
      "high_risk_per_ICU_bed     135 non-null float64\n",
      "high_risk_per_hospital    135 non-null float64\n",
      "icu_beds                  135 non-null float64\n",
      "hospitals                 135 non-null float64\n",
      "total_at_risk             136 non-null float64\n",
      "dtypes: float64(5), object(2)\n",
      "memory usage: 7.6+ KB\n"
     ]
    }
   ],
   "source": [
    "mmsa_df.info()"
   ]
  },
  {
   "cell_type": "markdown",
   "metadata": {},
   "source": [
    "There are 136 observations (rows) in the dataset. For four of the columns, there is a missing value (`135 non-null` instead of an expected `136 non-null`). \n",
    "\n",
    "Let's identify the observation with the missing value."
   ]
  },
  {
   "cell_type": "code",
   "execution_count": 4,
   "metadata": {},
   "outputs": [
    {
     "data": {
      "text/html": [
       "<div>\n",
       "<style scoped>\n",
       "    .dataframe tbody tr th:only-of-type {\n",
       "        vertical-align: middle;\n",
       "    }\n",
       "\n",
       "    .dataframe tbody tr th {\n",
       "        vertical-align: top;\n",
       "    }\n",
       "\n",
       "    .dataframe thead th {\n",
       "        text-align: right;\n",
       "    }\n",
       "</style>\n",
       "<table border=\"1\" class=\"dataframe\">\n",
       "  <thead>\n",
       "    <tr style=\"text-align: right;\">\n",
       "      <th></th>\n",
       "      <th>MMSA</th>\n",
       "      <th>total_percent_at_risk</th>\n",
       "      <th>high_risk_per_ICU_bed</th>\n",
       "      <th>high_risk_per_hospital</th>\n",
       "      <th>icu_beds</th>\n",
       "      <th>hospitals</th>\n",
       "      <th>total_at_risk</th>\n",
       "    </tr>\n",
       "  </thead>\n",
       "  <tbody>\n",
       "    <tr>\n",
       "      <td>0</td>\n",
       "      <td>San Juan-Carolina-Caguas, PR</td>\n",
       "      <td>52.88%</td>\n",
       "      <td>NaN</td>\n",
       "      <td>NaN</td>\n",
       "      <td>NaN</td>\n",
       "      <td>NaN</td>\n",
       "      <td>923725.203</td>\n",
       "    </tr>\n",
       "  </tbody>\n",
       "</table>\n",
       "</div>"
      ],
      "text/plain": [
       "                           MMSA total_percent_at_risk  high_risk_per_ICU_bed  \\\n",
       "0  San Juan-Carolina-Caguas, PR                52.88%                    NaN   \n",
       "\n",
       "   high_risk_per_hospital  icu_beds  hospitals  total_at_risk  \n",
       "0                     NaN       NaN        NaN     923725.203  "
      ]
     },
     "execution_count": 4,
     "metadata": {},
     "output_type": "execute_result"
    }
   ],
   "source": [
    "mmsa_df[mmsa_df.isnull().any(axis = 1)]"
   ]
  },
  {
   "cell_type": "markdown",
   "metadata": {},
   "source": [
    "The MMSA with the missing values is San Juan-Carolina-Caguas, PR. Since only one observation contains missing values, we are okay simply dropping this observation from the dataset. \n",
    "\n",
    "Imputing the missing values is an option, however, for this geographical dataset, further analysis would be needed to identify what type of imputation would be necessary (mean of all observations, mean of observations most like San Juan-Carolina-Caguas, PR, etc.), which is beyond the scope of this project. Without losing too much information, we can safely drop this observation."
   ]
  },
  {
   "cell_type": "code",
   "execution_count": 5,
   "metadata": {},
   "outputs": [],
   "source": [
    "mmsa_df = mmsa_df.set_index(\"MMSA\")\n",
    "mmsa_df = mmsa_df.drop(\"San Juan-Carolina-Caguas, PR\", axis = 0) # axis = 0 is for rows\n",
    "mmsa_df = mmsa_df.reset_index()"
   ]
  },
  {
   "cell_type": "markdown",
   "metadata": {},
   "source": [
    "We see that `total_percent_at_risk` is an `object` datatype. Let's convert this to a `float`. \n",
    "\n",
    "`[^\\d]` is the regular expression to get non-digits. We replace the non-digits with nothing, `('')`. We convert the `object` to an integer, then divide the integer by 10,000 to get the percentage in decimal form."
   ]
  },
  {
   "cell_type": "code",
   "execution_count": 6,
   "metadata": {},
   "outputs": [],
   "source": [
    "mmsa_df[\"total_percent_at_risk\"] = mmsa_df[\"total_percent_at_risk\"].str.replace('[^\\d]', '').astype(int) / 10000"
   ]
  },
  {
   "cell_type": "markdown",
   "metadata": {},
   "source": [
    "Since beds in an ICU (Intensive Care Unit) and Hospitals cannot be partial values, let's convert these datatypes from `float` to integer datatype."
   ]
  },
  {
   "cell_type": "code",
   "execution_count": 7,
   "metadata": {},
   "outputs": [],
   "source": [
    "mmsa_df[\"icu_beds\"] = mmsa_df[\"icu_beds\"].astype(int)\n",
    "mmsa_df[\"hospitals\"] = mmsa_df[\"hospitals\"].astype(int)"
   ]
  },
  {
   "cell_type": "markdown",
   "metadata": {},
   "source": [
    "We are going to create some additional columns in our dataset. This allows us to have additional features in our model, and capture more insight of our data."
   ]
  },
  {
   "cell_type": "markdown",
   "metadata": {},
   "source": [
    "Let's calculate the total population."
   ]
  },
  {
   "cell_type": "code",
   "execution_count": 8,
   "metadata": {},
   "outputs": [],
   "source": [
    "mmsa_df[\"total_population\"] = mmsa_df[\"total_at_risk\"] / mmsa_df[\"total_percent_at_risk\"]\n",
    "mmsa_df[\"total_population\"] = mmsa_df[\"total_population\"].round().astype(int)"
   ]
  },
  {
   "cell_type": "markdown",
   "metadata": {},
   "source": [
    "We extract which MMSA are metropolitan divisions (Note, Metropolitan Division is the most dense per county MMSA, Metropolitan Statistical Area is second, and Micropolitan Statistical Area is the smallest)."
   ]
  },
  {
   "cell_type": "code",
   "execution_count": 9,
   "metadata": {},
   "outputs": [],
   "source": [
    "mmsa_df[\"metro_div\"] = mmsa_df[\"MMSA\"].astype(str).str.extract(\"(Metropolitan Division)\", expand = False)\n",
    "mmsa_df[\"metro_div\"] = np.where(mmsa_df[\"metro_div\"].notnull(), 1, 0)"
   ]
  },
  {
   "cell_type": "markdown",
   "metadata": {},
   "source": [
    "We extract state from MMSA. We engineer a feature indicating which MMSA span across multiple states. "
   ]
  },
  {
   "cell_type": "code",
   "execution_count": 10,
   "metadata": {},
   "outputs": [],
   "source": [
    "mmsa_df[\"State\"] = mmsa_df[\"MMSA\"].str.split(\",\").str.get(1)\n",
    "mmsa_df[\"multiple_states_len\"] = mmsa_df[\"State\"].str.strip().str.len()\n",
    "mmsa_df[\"multiple_states\"] = np.where(mmsa_df[\"multiple_states_len\"] > 2, 1, 0)\n",
    "mmsa_df = mmsa_df.drop([\"State\",\"multiple_states_len\"], axis = 1) # axis = 1 is for columns"
   ]
  },
  {
   "cell_type": "markdown",
   "metadata": {},
   "source": [
    "We inspect our data after these initial manipulations."
   ]
  },
  {
   "cell_type": "code",
   "execution_count": 11,
   "metadata": {},
   "outputs": [
    {
     "data": {
      "text/html": [
       "<div>\n",
       "<style scoped>\n",
       "    .dataframe tbody tr th:only-of-type {\n",
       "        vertical-align: middle;\n",
       "    }\n",
       "\n",
       "    .dataframe tbody tr th {\n",
       "        vertical-align: top;\n",
       "    }\n",
       "\n",
       "    .dataframe thead th {\n",
       "        text-align: right;\n",
       "    }\n",
       "</style>\n",
       "<table border=\"1\" class=\"dataframe\">\n",
       "  <thead>\n",
       "    <tr style=\"text-align: right;\">\n",
       "      <th></th>\n",
       "      <th>total_percent_at_risk</th>\n",
       "      <th>high_risk_per_ICU_bed</th>\n",
       "      <th>high_risk_per_hospital</th>\n",
       "      <th>icu_beds</th>\n",
       "      <th>hospitals</th>\n",
       "      <th>total_at_risk</th>\n",
       "      <th>total_population</th>\n",
       "      <th>metro_div</th>\n",
       "      <th>multiple_states</th>\n",
       "    </tr>\n",
       "  </thead>\n",
       "  <tbody>\n",
       "    <tr>\n",
       "      <td>count</td>\n",
       "      <td>135.000000</td>\n",
       "      <td>135.000000</td>\n",
       "      <td>135.000000</td>\n",
       "      <td>135.000000</td>\n",
       "      <td>135.000000</td>\n",
       "      <td>1.350000e+02</td>\n",
       "      <td>1.350000e+02</td>\n",
       "      <td>135.000000</td>\n",
       "      <td>135.000000</td>\n",
       "    </tr>\n",
       "    <tr>\n",
       "      <td>mean</td>\n",
       "      <td>0.602318</td>\n",
       "      <td>1947.356729</td>\n",
       "      <td>43787.067561</td>\n",
       "      <td>360.185185</td>\n",
       "      <td>13.762963</td>\n",
       "      <td>6.652885e+05</td>\n",
       "      <td>1.158136e+06</td>\n",
       "      <td>0.125926</td>\n",
       "      <td>0.237037</td>\n",
       "    </tr>\n",
       "    <tr>\n",
       "      <td>std</td>\n",
       "      <td>0.061286</td>\n",
       "      <td>720.661896</td>\n",
       "      <td>17992.274197</td>\n",
       "      <td>450.580508</td>\n",
       "      <td>15.377929</td>\n",
       "      <td>8.878035e+05</td>\n",
       "      <td>1.647622e+06</td>\n",
       "      <td>0.333001</td>\n",
       "      <td>0.426849</td>\n",
       "    </tr>\n",
       "    <tr>\n",
       "      <td>min</td>\n",
       "      <td>0.389200</td>\n",
       "      <td>413.667706</td>\n",
       "      <td>6770.190000</td>\n",
       "      <td>8.000000</td>\n",
       "      <td>1.000000</td>\n",
       "      <td>1.794153e+04</td>\n",
       "      <td>2.795100e+04</td>\n",
       "      <td>0.000000</td>\n",
       "      <td>0.000000</td>\n",
       "    </tr>\n",
       "    <tr>\n",
       "      <td>25%</td>\n",
       "      <td>0.559400</td>\n",
       "      <td>1487.781317</td>\n",
       "      <td>31005.455625</td>\n",
       "      <td>89.500000</td>\n",
       "      <td>5.000000</td>\n",
       "      <td>1.566108e+05</td>\n",
       "      <td>2.474370e+05</td>\n",
       "      <td>0.000000</td>\n",
       "      <td>0.000000</td>\n",
       "    </tr>\n",
       "    <tr>\n",
       "      <td>50%</td>\n",
       "      <td>0.604800</td>\n",
       "      <td>1923.676063</td>\n",
       "      <td>42460.360000</td>\n",
       "      <td>221.000000</td>\n",
       "      <td>9.000000</td>\n",
       "      <td>3.921263e+05</td>\n",
       "      <td>6.155250e+05</td>\n",
       "      <td>0.000000</td>\n",
       "      <td>0.000000</td>\n",
       "    </tr>\n",
       "    <tr>\n",
       "      <td>75%</td>\n",
       "      <td>0.634650</td>\n",
       "      <td>2321.085003</td>\n",
       "      <td>56583.347585</td>\n",
       "      <td>489.500000</td>\n",
       "      <td>18.000000</td>\n",
       "      <td>9.387130e+05</td>\n",
       "      <td>1.597124e+06</td>\n",
       "      <td>0.000000</td>\n",
       "      <td>0.000000</td>\n",
       "    </tr>\n",
       "    <tr>\n",
       "      <td>max</td>\n",
       "      <td>0.807300</td>\n",
       "      <td>4489.848750</td>\n",
       "      <td>91771.345830</td>\n",
       "      <td>2777.000000</td>\n",
       "      <td>100.000000</td>\n",
       "      <td>6.165102e+06</td>\n",
       "      <td>1.133708e+07</td>\n",
       "      <td>1.000000</td>\n",
       "      <td>1.000000</td>\n",
       "    </tr>\n",
       "  </tbody>\n",
       "</table>\n",
       "</div>"
      ],
      "text/plain": [
       "       total_percent_at_risk  high_risk_per_ICU_bed  high_risk_per_hospital  \\\n",
       "count             135.000000             135.000000              135.000000   \n",
       "mean                0.602318            1947.356729            43787.067561   \n",
       "std                 0.061286             720.661896            17992.274197   \n",
       "min                 0.389200             413.667706             6770.190000   \n",
       "25%                 0.559400            1487.781317            31005.455625   \n",
       "50%                 0.604800            1923.676063            42460.360000   \n",
       "75%                 0.634650            2321.085003            56583.347585   \n",
       "max                 0.807300            4489.848750            91771.345830   \n",
       "\n",
       "          icu_beds   hospitals  total_at_risk  total_population   metro_div  \\\n",
       "count   135.000000  135.000000   1.350000e+02      1.350000e+02  135.000000   \n",
       "mean    360.185185   13.762963   6.652885e+05      1.158136e+06    0.125926   \n",
       "std     450.580508   15.377929   8.878035e+05      1.647622e+06    0.333001   \n",
       "min       8.000000    1.000000   1.794153e+04      2.795100e+04    0.000000   \n",
       "25%      89.500000    5.000000   1.566108e+05      2.474370e+05    0.000000   \n",
       "50%     221.000000    9.000000   3.921263e+05      6.155250e+05    0.000000   \n",
       "75%     489.500000   18.000000   9.387130e+05      1.597124e+06    0.000000   \n",
       "max    2777.000000  100.000000   6.165102e+06      1.133708e+07    1.000000   \n",
       "\n",
       "       multiple_states  \n",
       "count       135.000000  \n",
       "mean          0.237037  \n",
       "std           0.426849  \n",
       "min           0.000000  \n",
       "25%           0.000000  \n",
       "50%           0.000000  \n",
       "75%           0.000000  \n",
       "max           1.000000  "
      ]
     },
     "execution_count": 11,
     "metadata": {},
     "output_type": "execute_result"
    }
   ],
   "source": [
    "mmsa_df.describe()"
   ]
  },
  {
   "cell_type": "markdown",
   "metadata": {},
   "source": [
    "The ranges of our fields seem very large. The natural logarithm could be taken to smooth out this spread of the data. This will also help us when it comes to modeling by minimizing heteroskedasticity and allowing our coefficients to be more easily interpretable (percent change). \n",
    "\n",
    "Let's take the log of the continuous variables."
   ]
  },
  {
   "cell_type": "code",
   "execution_count": 12,
   "metadata": {},
   "outputs": [],
   "source": [
    "mmsa_df[\"total_at_risk_log\"] = np.log(mmsa_df[\"total_at_risk\"])\n",
    "mmsa_df[\"total_population_log\"] = np.log(mmsa_df[\"total_population\"])\n",
    "mmsa_df[\"icu_beds_log\"] = np.log(mmsa_df[\"icu_beds\"])\n",
    "mmsa_df[\"hospitals_log\"] = np.log(mmsa_df[\"hospitals\"])"
   ]
  },
  {
   "cell_type": "markdown",
   "metadata": {},
   "source": [
    "Visually inspecting these fields also affirms taking the natural log. The data are naturally skewed. Taking the natural log mostly returns the data to follow a normal distribution, necessary for linear regression modeling. "
   ]
  },
  {
   "cell_type": "code",
   "execution_count": 13,
   "metadata": {},
   "outputs": [
    {
     "data": {
      "image/png": "[encoded data removed]",
      "text/plain": [
       "<Figure size 432x288 with 2 Axes>"
      ]
     },
     "metadata": {
      "needs_background": "light"
     },
     "output_type": "display_data"
    }
   ],
   "source": [
    "plt.subplot(1, 2, 1)\n",
    "plt.hist(mmsa_df[\"total_at_risk\"], density = True, bins = 30)\n",
    "plt.ylabel(\"Probability\")\n",
    "plt.xlabel(\"Total At Risk\")\n",
    "plt.xticks(rotation = 45)\n",
    "\n",
    "plt.subplot(1, 2, 2)\n",
    "plt.hist(mmsa_df[\"total_at_risk_log\"], density = True, bins = 30)\n",
    "plt.ylabel(\"Probability\")\n",
    "plt.xlabel(\"Logged Total At Risk\")\n",
    "\n",
    "plt.tight_layout()\n",
    "plt.show()"
   ]
  },
  {
   "cell_type": "code",
   "execution_count": 14,
   "metadata": {},
   "outputs": [
    {
     "data": {
      "image/png": "[encoded data removed]",
      "text/plain": [
       "<Figure size 432x288 with 2 Axes>"
      ]
     },
     "metadata": {
      "needs_background": "light"
     },
     "output_type": "display_data"
    }
   ],
   "source": [
    "plt.subplot(1, 2, 1)\n",
    "plt.hist(mmsa_df[\"total_population\"], density = True, bins = 30)\n",
    "plt.ylabel(\"Probability\")\n",
    "plt.xlabel(\"Total Population\")\n",
    "\n",
    "plt.subplot(1, 2, 2)\n",
    "plt.hist(mmsa_df[\"total_population_log\"], density = True, bins = 30)\n",
    "plt.ylabel(\"Probability\")\n",
    "plt.xlabel(\"Logged Total Population\")\n",
    "\n",
    "plt.tight_layout()\n",
    "plt.show()"
   ]
  },
  {
   "cell_type": "code",
   "execution_count": 15,
   "metadata": {},
   "outputs": [
    {
     "data": {
      "image/png": "[encoded data removed]",
      "text/plain": [
       "<Figure size 432x288 with 2 Axes>"
      ]
     },
     "metadata": {
      "needs_background": "light"
     },
     "output_type": "display_data"
    }
   ],
   "source": [
    "plt.subplot(1, 2, 1)\n",
    "plt.hist(mmsa_df[\"icu_beds\"], density = True, bins = 30)\n",
    "plt.ylabel(\"Probability\")\n",
    "plt.xlabel(\"ICU Beds\")\n",
    "\n",
    "plt.subplot(1, 2, 2)\n",
    "plt.hist(mmsa_df[\"icu_beds_log\"], density = True, bins = 30)\n",
    "plt.ylabel(\"Probability\")\n",
    "plt.xlabel(\"Logged ICU Beds\")\n",
    "\n",
    "plt.tight_layout()\n",
    "plt.show()"
   ]
  },
  {
   "cell_type": "code",
   "execution_count": 16,
   "metadata": {},
   "outputs": [
    {
     "data": {
      "image/png": "[encoded data removed]",
      "text/plain": [
       "<Figure size 432x288 with 2 Axes>"
      ]
     },
     "metadata": {
      "needs_background": "light"
     },
     "output_type": "display_data"
    }
   ],
   "source": [
    "plt.subplot(1, 2, 1)\n",
    "plt.hist(mmsa_df[\"hospitals\"], density = True, bins = 30)\n",
    "plt.ylabel(\"Probability\")\n",
    "plt.xlabel(\"Hospitals\")\n",
    "\n",
    "plt.subplot(1, 2, 2)\n",
    "plt.hist(mmsa_df[\"hospitals_log\"], density = True, bins = 30)\n",
    "plt.ylabel(\"Probability\")\n",
    "plt.xlabel(\"Logged Hospitals\")\n",
    "\n",
    "plt.tight_layout()\n",
    "plt.show()"
   ]
  },
  {
   "cell_type": "markdown",
   "metadata": {},
   "source": [
    "The model we will try to fit is: $$(TotalAtRiskLog) = X$$ where `X` is: \n",
    "\n",
    "* `total_population_log`\n",
    "* `icu_beds_log`\n",
    "* `hospitals_log`\n",
    "* Whether the MMSA is a Metropolitan Division or not\n",
    "* Whether the MMSA spans multiple states or not"
   ]
  },
  {
   "cell_type": "markdown",
   "metadata": {},
   "source": [
    "The features for our model are coded up. Before we model our target, we need to gain a bit of understanding of our features and how they relate to our target, `total_at_risk_log`. \n",
    "\n",
    "We first inspect Metropolitan Division. Metropiltan Divisions are more dense per county than non-Metropolitan Divisions. More people centrally located could indicate more people at risk. On the other hand, Metropolitan Divisions may have more resources available, curbing the amount of people at risk. Thus, we would expect `metro_div` to have either a positive or inverse effect on `total_at_risk_log`.\n",
    "\n",
    "By simply inspecting the two groups, the data appear to be different. Whether positive or negative, the effect may be of a significant predictor in our model. "
   ]
  },
  {
   "cell_type": "code",
   "execution_count": 17,
   "metadata": {},
   "outputs": [
    {
     "data": {
      "text/html": [
       "<div>\n",
       "<style scoped>\n",
       "    .dataframe tbody tr th:only-of-type {\n",
       "        vertical-align: middle;\n",
       "    }\n",
       "\n",
       "    .dataframe tbody tr th {\n",
       "        vertical-align: top;\n",
       "    }\n",
       "\n",
       "    .dataframe thead tr th {\n",
       "        text-align: left;\n",
       "    }\n",
       "\n",
       "    .dataframe thead tr:last-of-type th {\n",
       "        text-align: right;\n",
       "    }\n",
       "</style>\n",
       "<table border=\"1\" class=\"dataframe\">\n",
       "  <thead>\n",
       "    <tr>\n",
       "      <th></th>\n",
       "      <th colspan=\"4\" halign=\"left\">total_at_risk_log</th>\n",
       "    </tr>\n",
       "    <tr>\n",
       "      <th></th>\n",
       "      <th>count</th>\n",
       "      <th>mean</th>\n",
       "      <th>std</th>\n",
       "      <th>var</th>\n",
       "    </tr>\n",
       "    <tr>\n",
       "      <th>metro_div</th>\n",
       "      <th></th>\n",
       "      <th></th>\n",
       "      <th></th>\n",
       "      <th></th>\n",
       "    </tr>\n",
       "  </thead>\n",
       "  <tbody>\n",
       "    <tr>\n",
       "      <td>0</td>\n",
       "      <td>118</td>\n",
       "      <td>12.63</td>\n",
       "      <td>1.15</td>\n",
       "      <td>1.33</td>\n",
       "    </tr>\n",
       "    <tr>\n",
       "      <td>1</td>\n",
       "      <td>17</td>\n",
       "      <td>13.81</td>\n",
       "      <td>0.74</td>\n",
       "      <td>0.54</td>\n",
       "    </tr>\n",
       "  </tbody>\n",
       "</table>\n",
       "</div>"
      ],
      "text/plain": [
       "          total_at_risk_log                   \n",
       "                      count   mean   std   var\n",
       "metro_div                                     \n",
       "0                       118  12.63  1.15  1.33\n",
       "1                        17  13.81  0.74  0.54"
      ]
     },
     "execution_count": 17,
     "metadata": {},
     "output_type": "execute_result"
    }
   ],
   "source": [
    "mmsa_df.groupby(\"metro_div\").agg({'total_at_risk_log':['count','mean','std','var']}).round(2)"
   ]
  },
  {
   "cell_type": "markdown",
   "metadata": {},
   "source": [
    "We have two, independent groups we'd like to compare. However, the samples are not comparable in size. There are 118 non-Metropolitan Divisions and only 17 Metropolitan Divisions. Instead of the customary Student's T-Test, we'll use Welch's T-Test. Welch's T-Test assumes the two samples being compared have different variances, as can be assumed for this sample of data by inspecting the `var` in the table above. "
   ]
  },
  {
   "cell_type": "code",
   "execution_count": 18,
   "metadata": {},
   "outputs": [],
   "source": [
    "mmsa_metro = mmsa_df.loc[mmsa_df[\"metro_div\"] == 1, \"total_at_risk_log\"]\n",
    "mmsa_non_metro = mmsa_df.loc[mmsa_df[\"metro_div\"] == 0, \"total_at_risk_log\"]"
   ]
  },
  {
   "cell_type": "code",
   "execution_count": 19,
   "metadata": {},
   "outputs": [
    {
     "name": "stdout",
     "output_type": "stream",
     "text": [
      "Null hypothesis: Metro Division and Non-Metro Divisions have similar means: H(0) = H(A)\n",
      "Alternative hypothesis: Metro Divisions and Non-Metro Divisions have different means: H(0) != H(A)\n",
      "\n",
      "\n",
      "T-stat:  5.666\n",
      "P-value:  0.0\n"
     ]
    }
   ],
   "source": [
    "t, p = scipy.stats.ttest_ind(mmsa_metro, mmsa_non_metro, equal_var = False)\n",
    "print(\"Null hypothesis: Metro Division and Non-Metro Divisions have similar means: H(0) = H(A)\")\n",
    "print(\"Alternative hypothesis: Metro Divisions and Non-Metro Divisions have different means: H(0) != H(A)\")\n",
    "print(\"\\n\")\n",
    "print(\"T-stat: \", t.round(3))\n",
    "print(\"P-value: \", p.round(3))"
   ]
  },
  {
   "cell_type": "markdown",
   "metadata": {},
   "source": [
    "The result: The means of the Metropolitan and non-Metropolitan Divisions are statistically significantly different from each other at the 99% level of confidence. This means, Metropolitan Divisions are fundamentally different from non-Metropolitan Divisions.\n",
    "\n",
    "Note, I am surprised the means are statistically significant from each other considering the sample size of Metropolitan Division is quite small. However, I suppose the groups are fundamentally different from each other in practicality, and the statistical test reflects this.  "
   ]
  },
  {
   "cell_type": "markdown",
   "metadata": {},
   "source": [
    "Next, we'll inspect MMSA that span across multiple states. If an MMSA spans multiple states, the MMSA may face different laws/executive orders, meaning the total population at risk could vary within an MMSA. Intuitively, if an MMSA is within one state, their may be fewer people at risk. \n",
    "\n",
    "By simply inspecting the two groups, the data don't appear to be too different. "
   ]
  },
  {
   "cell_type": "code",
   "execution_count": 20,
   "metadata": {},
   "outputs": [
    {
     "data": {
      "text/html": [
       "<div>\n",
       "<style scoped>\n",
       "    .dataframe tbody tr th:only-of-type {\n",
       "        vertical-align: middle;\n",
       "    }\n",
       "\n",
       "    .dataframe tbody tr th {\n",
       "        vertical-align: top;\n",
       "    }\n",
       "\n",
       "    .dataframe thead tr th {\n",
       "        text-align: left;\n",
       "    }\n",
       "\n",
       "    .dataframe thead tr:last-of-type th {\n",
       "        text-align: right;\n",
       "    }\n",
       "</style>\n",
       "<table border=\"1\" class=\"dataframe\">\n",
       "  <thead>\n",
       "    <tr>\n",
       "      <th></th>\n",
       "      <th colspan=\"4\" halign=\"left\">total_at_risk_log</th>\n",
       "    </tr>\n",
       "    <tr>\n",
       "      <th></th>\n",
       "      <th>count</th>\n",
       "      <th>mean</th>\n",
       "      <th>std</th>\n",
       "      <th>var</th>\n",
       "    </tr>\n",
       "    <tr>\n",
       "      <th>multiple_states</th>\n",
       "      <th></th>\n",
       "      <th></th>\n",
       "      <th></th>\n",
       "      <th></th>\n",
       "    </tr>\n",
       "  </thead>\n",
       "  <tbody>\n",
       "    <tr>\n",
       "      <td>0</td>\n",
       "      <td>103</td>\n",
       "      <td>12.721176</td>\n",
       "      <td>1.180306</td>\n",
       "      <td>1.393123</td>\n",
       "    </tr>\n",
       "    <tr>\n",
       "      <td>1</td>\n",
       "      <td>32</td>\n",
       "      <td>12.979516</td>\n",
       "      <td>1.150706</td>\n",
       "      <td>1.324124</td>\n",
       "    </tr>\n",
       "  </tbody>\n",
       "</table>\n",
       "</div>"
      ],
      "text/plain": [
       "                total_at_risk_log                               \n",
       "                            count       mean       std       var\n",
       "multiple_states                                                 \n",
       "0                             103  12.721176  1.180306  1.393123\n",
       "1                              32  12.979516  1.150706  1.324124"
      ]
     },
     "execution_count": 20,
     "metadata": {},
     "output_type": "execute_result"
    }
   ],
   "source": [
    "mmsa_df.groupby(\"multiple_states\").agg({'total_at_risk_log':['count','mean','std','var']})"
   ]
  },
  {
   "cell_type": "code",
   "execution_count": 21,
   "metadata": {},
   "outputs": [],
   "source": [
    "mmsa_mult_st = mmsa_df.loc[mmsa_df[\"multiple_states\"] == 1, \"total_at_risk_log\"]\n",
    "mmsa_one_st = mmsa_df.loc[mmsa_df[\"multiple_states\"] == 0, \"total_at_risk_log\"]"
   ]
  },
  {
   "cell_type": "code",
   "execution_count": 22,
   "metadata": {},
   "outputs": [
    {
     "name": "stdout",
     "output_type": "stream",
     "text": [
      "Null hypothesis: Multiple and Non-Multiple States have similar means: H(0) = H(A)\n",
      "Alternative hypothesis: Multiple and Non-Multiple States have different means: H(0) != H(A)\n",
      "\n",
      "\n",
      "T-stat:  -1.103\n",
      "P-value:  0.275\n"
     ]
    }
   ],
   "source": [
    "t, p = scipy.stats.ttest_ind(mmsa_one_st, mmsa_mult_st, equal_var = False)\n",
    "print(\"Null hypothesis: Multiple and Non-Multiple States have similar means: H(0) = H(A)\")\n",
    "print(\"Alternative hypothesis: Multiple and Non-Multiple States have different means: H(0) != H(A)\")\n",
    "print(\"\\n\")\n",
    "print(\"T-stat: \", t.round(3))\n",
    "print(\"P-value: \", p.round(3))"
   ]
  },
  {
   "cell_type": "markdown",
   "metadata": {},
   "source": [
    "Our thery doesn't seem to hold. Our result suggests the means are not statistically significantly different from each other at the 90% level of confidence. This means, MMSA that span across multiple states are not different from MMSA that are completely in one state. \n",
    "\n",
    "This may be an unimportant feature which we can exclude as we tune our model. "
   ]
  },
  {
   "cell_type": "markdown",
   "metadata": {},
   "source": [
    "Let's identify the largest MMSA. "
   ]
  },
  {
   "cell_type": "code",
   "execution_count": 23,
   "metadata": {},
   "outputs": [
    {
     "data": {
      "text/html": [
       "<style  type=\"text/css\" >\n",
       "</style><table id=\"T_4d071294_94ac_11ea_aa16_a01d48e10c5c\" ><thead>    <tr>        <th class=\"blank level0\" ></th>        <th class=\"col_heading level0 col0\" >MMSA</th>        <th class=\"col_heading level0 col1\" >total_population</th>    </tr></thead><tbody>\n",
       "                <tr>\n",
       "                        <th id=\"T_4d071294_94ac_11ea_aa16_a01d48e10c5clevel0_row0\" class=\"row_heading level0 row0\" >0</th>\n",
       "                        <td id=\"T_4d071294_94ac_11ea_aa16_a01d48e10c5crow0_col0\" class=\"data row0 col0\" >New York-Jersey City-White Plains, NY-NJ, Metropolitan Division</td>\n",
       "                        <td id=\"T_4d071294_94ac_11ea_aa16_a01d48e10c5crow0_col1\" class=\"data row0 col1\" >11,337,076</td>\n",
       "            </tr>\n",
       "            <tr>\n",
       "                        <th id=\"T_4d071294_94ac_11ea_aa16_a01d48e10c5clevel0_row1\" class=\"row_heading level0 row1\" >1</th>\n",
       "                        <td id=\"T_4d071294_94ac_11ea_aa16_a01d48e10c5crow1_col0\" class=\"data row1 col0\" >Los Angeles-Long Beach-Anaheim, CA</td>\n",
       "                        <td id=\"T_4d071294_94ac_11ea_aa16_a01d48e10c5crow1_col1\" class=\"data row1 col1\" >10,454,714</td>\n",
       "            </tr>\n",
       "            <tr>\n",
       "                        <th id=\"T_4d071294_94ac_11ea_aa16_a01d48e10c5clevel0_row2\" class=\"row_heading level0 row2\" >2</th>\n",
       "                        <td id=\"T_4d071294_94ac_11ea_aa16_a01d48e10c5crow2_col0\" class=\"data row2 col0\" >Chicago-Naperville-Elgin, IL-IN-WI</td>\n",
       "                        <td id=\"T_4d071294_94ac_11ea_aa16_a01d48e10c5crow2_col1\" class=\"data row2 col1\" >6,839,764</td>\n",
       "            </tr>\n",
       "            <tr>\n",
       "                        <th id=\"T_4d071294_94ac_11ea_aa16_a01d48e10c5clevel0_row3\" class=\"row_heading level0 row3\" >3</th>\n",
       "                        <td id=\"T_4d071294_94ac_11ea_aa16_a01d48e10c5crow3_col0\" class=\"data row3 col0\" >Houston-The Woodlands-Sugar Land, TX</td>\n",
       "                        <td id=\"T_4d071294_94ac_11ea_aa16_a01d48e10c5crow3_col1\" class=\"data row3 col1\" >5,140,605</td>\n",
       "            </tr>\n",
       "            <tr>\n",
       "                        <th id=\"T_4d071294_94ac_11ea_aa16_a01d48e10c5clevel0_row4\" class=\"row_heading level0 row4\" >4</th>\n",
       "                        <td id=\"T_4d071294_94ac_11ea_aa16_a01d48e10c5crow4_col0\" class=\"data row4 col0\" >Miami-Fort Lauderdale-West Palm Beach, FL</td>\n",
       "                        <td id=\"T_4d071294_94ac_11ea_aa16_a01d48e10c5crow4_col1\" class=\"data row4 col1\" >4,929,318</td>\n",
       "            </tr>\n",
       "            <tr>\n",
       "                        <th id=\"T_4d071294_94ac_11ea_aa16_a01d48e10c5clevel0_row5\" class=\"row_heading level0 row5\" >5</th>\n",
       "                        <td id=\"T_4d071294_94ac_11ea_aa16_a01d48e10c5crow5_col0\" class=\"data row5 col0\" >Atlanta-Sandy Springs-Roswell, GA</td>\n",
       "                        <td id=\"T_4d071294_94ac_11ea_aa16_a01d48e10c5crow5_col1\" class=\"data row5 col1\" >4,470,723</td>\n",
       "            </tr>\n",
       "            <tr>\n",
       "                        <th id=\"T_4d071294_94ac_11ea_aa16_a01d48e10c5clevel0_row6\" class=\"row_heading level0 row6\" >6</th>\n",
       "                        <td id=\"T_4d071294_94ac_11ea_aa16_a01d48e10c5crow6_col0\" class=\"data row6 col0\" >Washington-Arlington-Alexandria, DC-VA-MD-WV, Metropolitan Division</td>\n",
       "                        <td id=\"T_4d071294_94ac_11ea_aa16_a01d48e10c5crow6_col1\" class=\"data row6 col1\" >3,786,785</td>\n",
       "            </tr>\n",
       "            <tr>\n",
       "                        <th id=\"T_4d071294_94ac_11ea_aa16_a01d48e10c5clevel0_row7\" class=\"row_heading level0 row7\" >7</th>\n",
       "                        <td id=\"T_4d071294_94ac_11ea_aa16_a01d48e10c5crow7_col0\" class=\"data row7 col0\" >Dallas-Plano-Irving, TX, Metropolitan Division</td>\n",
       "                        <td id=\"T_4d071294_94ac_11ea_aa16_a01d48e10c5crow7_col1\" class=\"data row7 col1\" >3,650,681</td>\n",
       "            </tr>\n",
       "            <tr>\n",
       "                        <th id=\"T_4d071294_94ac_11ea_aa16_a01d48e10c5clevel0_row8\" class=\"row_heading level0 row8\" >8</th>\n",
       "                        <td id=\"T_4d071294_94ac_11ea_aa16_a01d48e10c5crow8_col0\" class=\"data row8 col0\" >Phoenix-Mesa-Scottsdale, AZ</td>\n",
       "                        <td id=\"T_4d071294_94ac_11ea_aa16_a01d48e10c5crow8_col1\" class=\"data row8 col1\" >3,630,310</td>\n",
       "            </tr>\n",
       "            <tr>\n",
       "                        <th id=\"T_4d071294_94ac_11ea_aa16_a01d48e10c5clevel0_row9\" class=\"row_heading level0 row9\" >9</th>\n",
       "                        <td id=\"T_4d071294_94ac_11ea_aa16_a01d48e10c5crow9_col0\" class=\"data row9 col0\" >Riverside-San Bernardino-Ontario, CA</td>\n",
       "                        <td id=\"T_4d071294_94ac_11ea_aa16_a01d48e10c5crow9_col1\" class=\"data row9 col1\" >3,401,601</td>\n",
       "            </tr>\n",
       "    </tbody></table>"
      ],
      "text/plain": [
       "<pandas.io.formats.style.Styler at 0xd977f88>"
      ]
     },
     "execution_count": 23,
     "metadata": {},
     "output_type": "execute_result"
    }
   ],
   "source": [
    "tot_pop_top10 = mmsa_df.loc[:, [\"MMSA\",\"total_population\"]]\n",
    "tot_pop_top10 = tot_pop_top10.sort_values(\"total_population\").tail(10)\n",
    "\n",
    "(tot_pop_top10.sort_values(\"total_population\", ascending = False).reset_index().drop(\"index\", axis = 1)\n",
    " .style.format({\"total_population\": \"{:,.0f}\"}))"
   ]
  },
  {
   "cell_type": "markdown",
   "metadata": {},
   "source": [
    "Let's identify the MMSA with the most people at risk."
   ]
  },
  {
   "cell_type": "code",
   "execution_count": 24,
   "metadata": {},
   "outputs": [
    {
     "data": {
      "text/html": [
       "<style  type=\"text/css\" >\n",
       "</style><table id=\"T_4e844c8c_94ac_11ea_a1c0_a01d48e10c5c\" ><thead>    <tr>        <th class=\"blank level0\" ></th>        <th class=\"col_heading level0 col0\" >MMSA</th>        <th class=\"col_heading level0 col1\" >total_at_risk</th>    </tr></thead><tbody>\n",
       "                <tr>\n",
       "                        <th id=\"T_4e844c8c_94ac_11ea_a1c0_a01d48e10c5clevel0_row0\" class=\"row_heading level0 row0\" >0</th>\n",
       "                        <td id=\"T_4e844c8c_94ac_11ea_a1c0_a01d48e10c5crow0_col0\" class=\"data row0 col0\" >New York-Jersey City-White Plains, NY-NJ, Metropolitan Division</td>\n",
       "                        <td id=\"T_4e844c8c_94ac_11ea_a1c0_a01d48e10c5crow0_col1\" class=\"data row0 col1\" >6,165,102</td>\n",
       "            </tr>\n",
       "            <tr>\n",
       "                        <th id=\"T_4e844c8c_94ac_11ea_a1c0_a01d48e10c5clevel0_row1\" class=\"row_heading level0 row1\" >1</th>\n",
       "                        <td id=\"T_4e844c8c_94ac_11ea_a1c0_a01d48e10c5crow1_col0\" class=\"data row1 col0\" >Los Angeles-Long Beach-Anaheim, CA</td>\n",
       "                        <td id=\"T_4e844c8c_94ac_11ea_a1c0_a01d48e10c5crow1_col1\" class=\"data row1 col1\" >5,345,495</td>\n",
       "            </tr>\n",
       "            <tr>\n",
       "                        <th id=\"T_4e844c8c_94ac_11ea_a1c0_a01d48e10c5clevel0_row2\" class=\"row_heading level0 row2\" >2</th>\n",
       "                        <td id=\"T_4e844c8c_94ac_11ea_a1c0_a01d48e10c5crow2_col0\" class=\"data row2 col0\" >Chicago-Naperville-Elgin, IL-IN-WI</td>\n",
       "                        <td id=\"T_4e844c8c_94ac_11ea_a1c0_a01d48e10c5crow2_col1\" class=\"data row2 col1\" >3,831,636</td>\n",
       "            </tr>\n",
       "            <tr>\n",
       "                        <th id=\"T_4e844c8c_94ac_11ea_a1c0_a01d48e10c5clevel0_row3\" class=\"row_heading level0 row3\" >3</th>\n",
       "                        <td id=\"T_4e844c8c_94ac_11ea_a1c0_a01d48e10c5crow3_col0\" class=\"data row3 col0\" >Houston-The Woodlands-Sugar Land, TX</td>\n",
       "                        <td id=\"T_4e844c8c_94ac_11ea_a1c0_a01d48e10c5crow3_col1\" class=\"data row3 col1\" >2,869,486</td>\n",
       "            </tr>\n",
       "            <tr>\n",
       "                        <th id=\"T_4e844c8c_94ac_11ea_a1c0_a01d48e10c5clevel0_row4\" class=\"row_heading level0 row4\" >4</th>\n",
       "                        <td id=\"T_4e844c8c_94ac_11ea_a1c0_a01d48e10c5crow4_col0\" class=\"data row4 col0\" >Miami-Fort Lauderdale-West Palm Beach, FL</td>\n",
       "                        <td id=\"T_4e844c8c_94ac_11ea_a1c0_a01d48e10c5crow4_col1\" class=\"data row4 col1\" >2,749,081</td>\n",
       "            </tr>\n",
       "            <tr>\n",
       "                        <th id=\"T_4e844c8c_94ac_11ea_a1c0_a01d48e10c5clevel0_row5\" class=\"row_heading level0 row5\" >5</th>\n",
       "                        <td id=\"T_4e844c8c_94ac_11ea_a1c0_a01d48e10c5crow5_col0\" class=\"data row5 col0\" >Atlanta-Sandy Springs-Roswell, GA</td>\n",
       "                        <td id=\"T_4e844c8c_94ac_11ea_a1c0_a01d48e10c5crow5_col1\" class=\"data row5 col1\" >2,467,392</td>\n",
       "            </tr>\n",
       "            <tr>\n",
       "                        <th id=\"T_4e844c8c_94ac_11ea_a1c0_a01d48e10c5clevel0_row6\" class=\"row_heading level0 row6\" >6</th>\n",
       "                        <td id=\"T_4e844c8c_94ac_11ea_a1c0_a01d48e10c5crow6_col0\" class=\"data row6 col0\" >Phoenix-Mesa-Scottsdale, AZ</td>\n",
       "                        <td id=\"T_4e844c8c_94ac_11ea_a1c0_a01d48e10c5crow6_col1\" class=\"data row6 col1\" >2,096,504</td>\n",
       "            </tr>\n",
       "            <tr>\n",
       "                        <th id=\"T_4e844c8c_94ac_11ea_a1c0_a01d48e10c5clevel0_row7\" class=\"row_heading level0 row7\" >7</th>\n",
       "                        <td id=\"T_4e844c8c_94ac_11ea_a1c0_a01d48e10c5crow7_col0\" class=\"data row7 col0\" >Riverside-San Bernardino-Ontario, CA</td>\n",
       "                        <td id=\"T_4e844c8c_94ac_11ea_a1c0_a01d48e10c5crow7_col1\" class=\"data row7 col1\" >1,925,986</td>\n",
       "            </tr>\n",
       "            <tr>\n",
       "                        <th id=\"T_4e844c8c_94ac_11ea_a1c0_a01d48e10c5clevel0_row8\" class=\"row_heading level0 row8\" >8</th>\n",
       "                        <td id=\"T_4e844c8c_94ac_11ea_a1c0_a01d48e10c5crow8_col0\" class=\"data row8 col0\" >Dallas-Plano-Irving, TX, Metropolitan Division</td>\n",
       "                        <td id=\"T_4e844c8c_94ac_11ea_a1c0_a01d48e10c5crow8_col1\" class=\"data row8 col1\" >1,916,243</td>\n",
       "            </tr>\n",
       "            <tr>\n",
       "                        <th id=\"T_4e844c8c_94ac_11ea_a1c0_a01d48e10c5clevel0_row9\" class=\"row_heading level0 row9\" >9</th>\n",
       "                        <td id=\"T_4e844c8c_94ac_11ea_a1c0_a01d48e10c5crow9_col0\" class=\"data row9 col0\" >Washington-Arlington-Alexandria, DC-VA-MD-WV, Metropolitan Division</td>\n",
       "                        <td id=\"T_4e844c8c_94ac_11ea_a1c0_a01d48e10c5crow9_col1\" class=\"data row9 col1\" >1,894,529</td>\n",
       "            </tr>\n",
       "    </tbody></table>"
      ],
      "text/plain": [
       "<pandas.io.formats.style.Styler at 0xd870f08>"
      ]
     },
     "execution_count": 24,
     "metadata": {},
     "output_type": "execute_result"
    }
   ],
   "source": [
    "tot_at_risk_top10 = mmsa_df.loc[:, [\"MMSA\",\"total_at_risk\"]]\n",
    "tot_at_risk_top10 = tot_at_risk_top10.sort_values(\"total_at_risk\").tail(10)\n",
    "\n",
    "(tot_at_risk_top10.sort_values(\"total_at_risk\", ascending = False).reset_index().drop(\"index\", axis = 1)\n",
    " .style.format({\"total_at_risk\": \"{:,.0f}\"}))"
   ]
  },
  {
   "cell_type": "markdown",
   "metadata": {},
   "source": [
    "When looking at these two lists, the top six observations remain unchanged. Further, the top 10 in total population are in the top 10 in total population at risk. This gives us an idea that the more people living in an MMSA, the more at risk people are. This could be due to larger MMSA naturally having a larger total at risk population. This pattern may hold for the largest MMSA, but not necessarily for the rest of the dataset. We need to keep in mind that MMSA with larger total populations may also have more resources available, thus possibly curbing the total population at risk. \n",
    "\n",
    "Let's look at the correlations between these features."
   ]
  },
  {
   "cell_type": "code",
   "execution_count": 25,
   "metadata": {},
   "outputs": [
    {
     "data": {
      "text/plain": [
       "0.9964553854668807"
      ]
     },
     "execution_count": 25,
     "metadata": {},
     "output_type": "execute_result"
    }
   ],
   "source": [
    "mmsa_df['total_population_log'].corr(mmsa_df['total_at_risk_log'])"
   ]
  },
  {
   "cell_type": "markdown",
   "metadata": {},
   "source": [
    "Looks like total population and total at risk are highly correlated, leading us to believe total population at risk may increase when total population increases. This can be somewhat expected, according to theory, and/or the fact that we did use `total_at_risk` to calculate `total_population`:    \n",
    "\n",
    "`total_at_risk` / `total_percent_at_risk`\n",
    "\n",
    "This, in practice, would not be ideal when modeling the target variable. For this exercise, it is purely a demonstration of feature generation and modeling."
   ]
  },
  {
   "cell_type": "code",
   "execution_count": 26,
   "metadata": {},
   "outputs": [
    {
     "data": {
      "text/plain": [
       "0.9431210012654813"
      ]
     },
     "execution_count": 26,
     "metadata": {},
     "output_type": "execute_result"
    }
   ],
   "source": [
    "mmsa_df['icu_beds_log'].corr(mmsa_df['total_at_risk_log'])"
   ]
  },
  {
   "cell_type": "code",
   "execution_count": 27,
   "metadata": {},
   "outputs": [
    {
     "data": {
      "text/plain": [
       "0.9127880266881997"
      ]
     },
     "execution_count": 27,
     "metadata": {},
     "output_type": "execute_result"
    }
   ],
   "source": [
    "mmsa_df['hospitals_log'].corr(mmsa_df['total_at_risk_log'])"
   ]
  },
  {
   "cell_type": "markdown",
   "metadata": {},
   "source": [
    "The number of ICU Beds and Hospitals available in an MMSA could be expected to help or adversely affect the total number of people at risk. We can expect the more ICU Beds and Hospitals in an MMSA, the lower the total at risk population should be. On the contrary, since we may expect MMSA with higher total populations to have a higher total at risk population, MMSA with higher total populations may also be expected to have more ICU Beds and Hospitals to support the larger populations. This also means that Metropolitan Divisions may also see more ICU Beds and Hospitals. We may be dealing with severe multicollinearity in this dataset.\n",
    "\n",
    "Inspecting the correlation coefficients indicates a strong positive relationship as positive correlations are found between ICU Beds and Hositals and our target. Negative correlations would have indicated an inverse relationship between ICU Beds and Hospitals and the total at risk population. \n",
    "\n",
    "ICU Beds and Hospitals may be closer linked to total population rather than the total at risk population. "
   ]
  },
  {
   "cell_type": "markdown",
   "metadata": {},
   "source": [
    "Now, we have some understanding of how we expect our variables to interact with our target in our model. \n",
    "\n",
    "Let's begin building our model: "
   ]
  },
  {
   "cell_type": "markdown",
   "metadata": {},
   "source": [
    "First, we split our dataset into training and test sets. "
   ]
  },
  {
   "cell_type": "code",
   "execution_count": 28,
   "metadata": {},
   "outputs": [],
   "source": [
    "mmsa_df_model = mmsa_df.copy()\n",
    "random.seed(19)\n",
    "mmsa_df_model[\"split\"] = [random.random() for k in mmsa_df_model.index]"
   ]
  },
  {
   "cell_type": "code",
   "execution_count": 29,
   "metadata": {},
   "outputs": [
    {
     "name": "stdout",
     "output_type": "stream",
     "text": [
      "(135, 14)\n",
      "(115, 15)\n",
      "(20, 15)\n"
     ]
    }
   ],
   "source": [
    "train_df = mmsa_df_model[mmsa_df_model[\"split\"] <= 0.8]\n",
    "test_df = mmsa_df_model[mmsa_df_model[\"split\"] > 0.8]\n",
    "print(mmsa_df.shape)\n",
    "print(train_df.shape)\n",
    "print(test_df.shape)"
   ]
  },
  {
   "cell_type": "code",
   "execution_count": 30,
   "metadata": {},
   "outputs": [
    {
     "name": "stdout",
     "output_type": "stream",
     "text": [
      "(115, 5)\n",
      "(115, 1)\n",
      "(20, 5)\n",
      "(20, 1)\n"
     ]
    }
   ],
   "source": [
    "train_x = train_df[[\"total_population_log\",\"hospitals_log\",\"icu_beds_log\",\"metro_div\",\"multiple_states\"]]\n",
    "train_y = train_df[[\"total_at_risk_log\"]]\n",
    "test_x = test_df[[\"total_population_log\",\"hospitals_log\",\"icu_beds_log\",\"metro_div\",\"multiple_states\"]]\n",
    "test_y = test_df[[\"total_at_risk_log\"]]\n",
    "\n",
    "print(train_x.shape)\n",
    "print(train_y.shape)\n",
    "print(test_x.shape)\n",
    "print(test_y.shape)"
   ]
  },
  {
   "cell_type": "markdown",
   "metadata": {},
   "source": [
    "Estimate initial OLS model:"
   ]
  },
  {
   "cell_type": "code",
   "execution_count": 32,
   "metadata": {},
   "outputs": [
    {
     "data": {
      "text/html": [
       "<table class=\"simpletable\">\n",
       "<caption>OLS Regression Results</caption>\n",
       "<tr>\n",
       "  <th>Dep. Variable:</th>    <td>total_at_risk_log</td> <th>  R-squared:         </th> <td>   0.994</td> \n",
       "</tr>\n",
       "<tr>\n",
       "  <th>Model:</th>                   <td>OLS</td>        <th>  Adj. R-squared:    </th> <td>   0.994</td> \n",
       "</tr>\n",
       "<tr>\n",
       "  <th>Method:</th>             <td>Least Squares</td>   <th>  F-statistic:       </th> <td>   3847.</td> \n",
       "</tr>\n",
       "<tr>\n",
       "  <th>Date:</th>             <td>Tue, 12 May 2020</td>  <th>  Prob (F-statistic):</th> <td>8.26e-121</td>\n",
       "</tr>\n",
       "<tr>\n",
       "  <th>Time:</th>                 <td>18:57:36</td>      <th>  Log-Likelihood:    </th> <td>  122.38</td> \n",
       "</tr>\n",
       "<tr>\n",
       "  <th>No. Observations:</th>      <td>   115</td>       <th>  AIC:               </th> <td>  -232.8</td> \n",
       "</tr>\n",
       "<tr>\n",
       "  <th>Df Residuals:</th>          <td>   109</td>       <th>  BIC:               </th> <td>  -216.3</td> \n",
       "</tr>\n",
       "<tr>\n",
       "  <th>Df Model:</th>              <td>     5</td>       <th>                     </th>     <td> </td>    \n",
       "</tr>\n",
       "<tr>\n",
       "  <th>Covariance Type:</th>      <td>nonrobust</td>     <th>                     </th>     <td> </td>    \n",
       "</tr>\n",
       "</table>\n",
       "<table class=\"simpletable\">\n",
       "<tr>\n",
       "            <td></td>              <th>coef</th>     <th>std err</th>      <th>t</th>      <th>P>|t|</th>  <th>[0.025</th>    <th>0.975]</th>  \n",
       "</tr>\n",
       "<tr>\n",
       "  <th>const</th>                <td>    0.3242</td> <td>    0.230</td> <td>    1.409</td> <td> 0.162</td> <td>   -0.132</td> <td>    0.780</td>\n",
       "</tr>\n",
       "<tr>\n",
       "  <th>total_population_log</th> <td>    0.9054</td> <td>    0.025</td> <td>   36.668</td> <td> 0.000</td> <td>    0.856</td> <td>    0.954</td>\n",
       "</tr>\n",
       "<tr>\n",
       "  <th>hospitals_log</th>        <td>   -0.0016</td> <td>    0.022</td> <td>   -0.071</td> <td> 0.943</td> <td>   -0.046</td> <td>    0.043</td>\n",
       "</tr>\n",
       "<tr>\n",
       "  <th>icu_beds_log</th>         <td>    0.0814</td> <td>    0.020</td> <td>    4.097</td> <td> 0.000</td> <td>    0.042</td> <td>    0.121</td>\n",
       "</tr>\n",
       "<tr>\n",
       "  <th>metro_div</th>            <td>   -0.0360</td> <td>    0.028</td> <td>   -1.287</td> <td> 0.201</td> <td>   -0.092</td> <td>    0.019</td>\n",
       "</tr>\n",
       "<tr>\n",
       "  <th>multiple_states</th>      <td>    0.0311</td> <td>    0.019</td> <td>    1.646</td> <td> 0.103</td> <td>   -0.006</td> <td>    0.069</td>\n",
       "</tr>\n",
       "</table>\n",
       "<table class=\"simpletable\">\n",
       "<tr>\n",
       "  <th>Omnibus:</th>       <td> 3.778</td> <th>  Durbin-Watson:     </th> <td>   1.650</td>\n",
       "</tr>\n",
       "<tr>\n",
       "  <th>Prob(Omnibus):</th> <td> 0.151</td> <th>  Jarque-Bera (JB):  </th> <td>   3.262</td>\n",
       "</tr>\n",
       "<tr>\n",
       "  <th>Skew:</th>          <td>-0.302</td> <th>  Prob(JB):          </th> <td>   0.196</td>\n",
       "</tr>\n",
       "<tr>\n",
       "  <th>Kurtosis:</th>      <td> 3.563</td> <th>  Cond. No.          </th> <td>    424.</td>\n",
       "</tr>\n",
       "</table><br/><br/>Warnings:<br/>[1] Standard Errors assume that the covariance matrix of the errors is correctly specified."
      ],
      "text/plain": [
       "<class 'statsmodels.iolib.summary.Summary'>\n",
       "\"\"\"\n",
       "                            OLS Regression Results                            \n",
       "==============================================================================\n",
       "Dep. Variable:      total_at_risk_log   R-squared:                       0.994\n",
       "Model:                            OLS   Adj. R-squared:                  0.994\n",
       "Method:                 Least Squares   F-statistic:                     3847.\n",
       "Date:                Tue, 12 May 2020   Prob (F-statistic):          8.26e-121\n",
       "Time:                        18:57:36   Log-Likelihood:                 122.38\n",
       "No. Observations:                 115   AIC:                            -232.8\n",
       "Df Residuals:                     109   BIC:                            -216.3\n",
       "Df Model:                           5                                         \n",
       "Covariance Type:            nonrobust                                         \n",
       "========================================================================================\n",
       "                           coef    std err          t      P>|t|      [0.025      0.975]\n",
       "----------------------------------------------------------------------------------------\n",
       "const                    0.3242      0.230      1.409      0.162      -0.132       0.780\n",
       "total_population_log     0.9054      0.025     36.668      0.000       0.856       0.954\n",
       "hospitals_log           -0.0016      0.022     -0.071      0.943      -0.046       0.043\n",
       "icu_beds_log             0.0814      0.020      4.097      0.000       0.042       0.121\n",
       "metro_div               -0.0360      0.028     -1.287      0.201      -0.092       0.019\n",
       "multiple_states          0.0311      0.019      1.646      0.103      -0.006       0.069\n",
       "==============================================================================\n",
       "Omnibus:                        3.778   Durbin-Watson:                   1.650\n",
       "Prob(Omnibus):                  0.151   Jarque-Bera (JB):                3.262\n",
       "Skew:                          -0.302   Prob(JB):                        0.196\n",
       "Kurtosis:                       3.563   Cond. No.                         424.\n",
       "==============================================================================\n",
       "\n",
       "Warnings:\n",
       "[1] Standard Errors assume that the covariance matrix of the errors is correctly specified.\n",
       "\"\"\""
      ]
     },
     "execution_count": 32,
     "metadata": {},
     "output_type": "execute_result"
    }
   ],
   "source": [
    "# statsmodels function doesn't include a constant term, so, add a constant term to the equation.\n",
    "X = sm.add_constant(train_x)\n",
    "model = sm.OLS(train_y, X).fit() ## sm.OLS(output, input)\n",
    "\n",
    "# Print out the statistics\n",
    "model.summary()"
   ]
  },
  {
   "cell_type": "markdown",
   "metadata": {},
   "source": [
    "The Adjusted-R^2 is pretty high, which is a positive outcome, considering this is a cross-sectional dataset. Our AIC and BIC are pretty low, also a good indicator. Lastly, our F-Statistic is pretty high, indicating the group of features we have in our model is an appropriate group. \n",
    "\n",
    "At a high level, the model seems healthy. From a feature level, some enhancements could be made. `hospitals_log` is statistically insignificant in the model, with a p-value close to 1. We saw earlier `hospitals_log`, `icu_bed_log`, and `total_population_log` are all highly positively correlated with `total_at_risk_log`. `hospitals_log`, `icu_beds_log`, and`total_population_log` may be highly correlated to each other as well. \n",
    "\n",
    "Let's inspect the variance inflation factors (VIF) for our features."
   ]
  },
  {
   "cell_type": "code",
   "execution_count": 33,
   "metadata": {},
   "outputs": [
    {
     "data": {
      "text/plain": [
       "const                   828.645829\n",
       "total_population_log     12.230192\n",
       "hospitals_log             5.835775\n",
       "icu_beds_log              8.163369\n",
       "metro_div                 1.145753\n",
       "multiple_states           1.004478\n",
       "dtype: float64"
      ]
     },
     "execution_count": 33,
     "metadata": {},
     "output_type": "execute_result"
    }
   ],
   "source": [
    "pd.Series([variance_inflation_factor(X.values, i) \n",
    "           for i in range(X.shape[1])], \n",
    "          index = X.columns)"
   ]
  },
  {
   "cell_type": "markdown",
   "metadata": {},
   "source": [
    "Let's also see how well we're scoring unseen data."
   ]
  },
  {
   "cell_type": "code",
   "execution_count": 34,
   "metadata": {},
   "outputs": [
    {
     "name": "stdout",
     "output_type": "stream",
     "text": [
      "Training Mean Absolute Error:  0.06272\n",
      "Testing Mean Absolute Error:  0.08532\n"
     ]
    }
   ],
   "source": [
    "# Estimate predictions on train and test datasets\n",
    "predictions_train = model.predict(X)\n",
    "predictions_test = model.predict(sm.add_constant(test_x))\n",
    "\n",
    "# Calculate the absolute errors\n",
    "errors_train = abs(predictions_train - train_y.iloc[:, 0])\n",
    "errors_test = abs(predictions_test - test_y.iloc[:, 0])\n",
    "\n",
    "# Print out the mean absolute error (mae)\n",
    "print(\"Training Mean Absolute Error: \", round(np.mean(errors_train), 5))\n",
    "print(\"Testing Mean Absolute Error: \", round(np.mean(errors_test), 5))"
   ]
  },
  {
   "cell_type": "markdown",
   "metadata": {},
   "source": [
    "The baseline MAE on our test dataset is `0.08532`. \n",
    "\n",
    "`total_population_log` seems to be collinear with some other features as can be noticed with a VIF > 10. However, let's keep `total_population_log` in the model, and instead exclude `hospitals_log` as this feature is not statistically significant in the model. "
   ]
  },
  {
   "cell_type": "markdown",
   "metadata": {},
   "source": [
    "Let's also exclude `multiple_states` since it is not statistically significant in our model at the 90% level of confidence. Further, the T-Test earlier showed the statistical insignifcance of the two groups of `multiple_states`. We keep `metro_div` as we theoretically believe there is something fundamentally different about those two groups. \n",
    "\n",
    "Let's see what happens. "
   ]
  },
  {
   "cell_type": "code",
   "execution_count": 35,
   "metadata": {},
   "outputs": [
    {
     "data": {
      "text/html": [
       "<table class=\"simpletable\">\n",
       "<caption>OLS Regression Results</caption>\n",
       "<tr>\n",
       "  <th>Dep. Variable:</th>    <td>total_at_risk_log</td> <th>  R-squared:         </th> <td>   0.994</td> \n",
       "</tr>\n",
       "<tr>\n",
       "  <th>Model:</th>                   <td>OLS</td>        <th>  Adj. R-squared:    </th> <td>   0.994</td> \n",
       "</tr>\n",
       "<tr>\n",
       "  <th>Method:</th>             <td>Least Squares</td>   <th>  F-statistic:       </th> <td>   6369.</td> \n",
       "</tr>\n",
       "<tr>\n",
       "  <th>Date:</th>             <td>Tue, 12 May 2020</td>  <th>  Prob (F-statistic):</th> <td>4.95e-124</td>\n",
       "</tr>\n",
       "<tr>\n",
       "  <th>Time:</th>                 <td>18:57:46</td>      <th>  Log-Likelihood:    </th> <td>  120.97</td> \n",
       "</tr>\n",
       "<tr>\n",
       "  <th>No. Observations:</th>      <td>   115</td>       <th>  AIC:               </th> <td>  -233.9</td> \n",
       "</tr>\n",
       "<tr>\n",
       "  <th>Df Residuals:</th>          <td>   111</td>       <th>  BIC:               </th> <td>  -223.0</td> \n",
       "</tr>\n",
       "<tr>\n",
       "  <th>Df Model:</th>              <td>     3</td>       <th>                     </th>     <td> </td>    \n",
       "</tr>\n",
       "<tr>\n",
       "  <th>Covariance Type:</th>      <td>nonrobust</td>     <th>                     </th>     <td> </td>    \n",
       "</tr>\n",
       "</table>\n",
       "<table class=\"simpletable\">\n",
       "<tr>\n",
       "            <td></td>              <th>coef</th>     <th>std err</th>      <th>t</th>      <th>P>|t|</th>  <th>[0.025</th>    <th>0.975]</th>  \n",
       "</tr>\n",
       "<tr>\n",
       "  <th>const</th>                <td>    0.3462</td> <td>    0.180</td> <td>    1.926</td> <td> 0.057</td> <td>   -0.010</td> <td>    0.702</td>\n",
       "</tr>\n",
       "<tr>\n",
       "  <th>total_population_log</th> <td>    0.9037</td> <td>    0.021</td> <td>   43.898</td> <td> 0.000</td> <td>    0.863</td> <td>    0.945</td>\n",
       "</tr>\n",
       "<tr>\n",
       "  <th>icu_beds_log</th>         <td>    0.0821</td> <td>    0.020</td> <td>    4.147</td> <td> 0.000</td> <td>    0.043</td> <td>    0.121</td>\n",
       "</tr>\n",
       "<tr>\n",
       "  <th>metro_div</th>            <td>   -0.0383</td> <td>    0.028</td> <td>   -1.368</td> <td> 0.174</td> <td>   -0.094</td> <td>    0.017</td>\n",
       "</tr>\n",
       "</table>\n",
       "<table class=\"simpletable\">\n",
       "<tr>\n",
       "  <th>Omnibus:</th>       <td> 3.073</td> <th>  Durbin-Watson:     </th> <td>   1.699</td>\n",
       "</tr>\n",
       "<tr>\n",
       "  <th>Prob(Omnibus):</th> <td> 0.215</td> <th>  Jarque-Bera (JB):  </th> <td>   2.608</td>\n",
       "</tr>\n",
       "<tr>\n",
       "  <th>Skew:</th>          <td>-0.231</td> <th>  Prob(JB):          </th> <td>   0.271</td>\n",
       "</tr>\n",
       "<tr>\n",
       "  <th>Kurtosis:</th>      <td> 3.575</td> <th>  Cond. No.          </th> <td>    327.</td>\n",
       "</tr>\n",
       "</table><br/><br/>Warnings:<br/>[1] Standard Errors assume that the covariance matrix of the errors is correctly specified."
      ],
      "text/plain": [
       "<class 'statsmodels.iolib.summary.Summary'>\n",
       "\"\"\"\n",
       "                            OLS Regression Results                            \n",
       "==============================================================================\n",
       "Dep. Variable:      total_at_risk_log   R-squared:                       0.994\n",
       "Model:                            OLS   Adj. R-squared:                  0.994\n",
       "Method:                 Least Squares   F-statistic:                     6369.\n",
       "Date:                Tue, 12 May 2020   Prob (F-statistic):          4.95e-124\n",
       "Time:                        18:57:46   Log-Likelihood:                 120.97\n",
       "No. Observations:                 115   AIC:                            -233.9\n",
       "Df Residuals:                     111   BIC:                            -223.0\n",
       "Df Model:                           3                                         \n",
       "Covariance Type:            nonrobust                                         \n",
       "========================================================================================\n",
       "                           coef    std err          t      P>|t|      [0.025      0.975]\n",
       "----------------------------------------------------------------------------------------\n",
       "const                    0.3462      0.180      1.926      0.057      -0.010       0.702\n",
       "total_population_log     0.9037      0.021     43.898      0.000       0.863       0.945\n",
       "icu_beds_log             0.0821      0.020      4.147      0.000       0.043       0.121\n",
       "metro_div               -0.0383      0.028     -1.368      0.174      -0.094       0.017\n",
       "==============================================================================\n",
       "Omnibus:                        3.073   Durbin-Watson:                   1.699\n",
       "Prob(Omnibus):                  0.215   Jarque-Bera (JB):                2.608\n",
       "Skew:                          -0.231   Prob(JB):                        0.271\n",
       "Kurtosis:                       3.575   Cond. No.                         327.\n",
       "==============================================================================\n",
       "\n",
       "Warnings:\n",
       "[1] Standard Errors assume that the covariance matrix of the errors is correctly specified.\n",
       "\"\"\""
      ]
     },
     "execution_count": 35,
     "metadata": {},
     "output_type": "execute_result"
    }
   ],
   "source": [
    "train_x = train_df[[\"total_population_log\",\"icu_beds_log\",\"metro_div\"]]\n",
    "train_y = train_df[[\"total_at_risk_log\"]]\n",
    "test_x = test_df[[\"total_population_log\",\"icu_beds_log\",\"metro_div\"]]\n",
    "test_y = test_df[[\"total_at_risk_log\"]]\n",
    "\n",
    "X = sm.add_constant(train_x)\n",
    "model = sm.OLS(train_y, X).fit()\n",
    "\n",
    "model.summary()"
   ]
  },
  {
   "cell_type": "code",
   "execution_count": 36,
   "metadata": {},
   "outputs": [
    {
     "name": "stdout",
     "output_type": "stream",
     "text": [
      "Training Mean Absolute Error:  0.06389\n",
      "Testing Mean Absolute Error:  0.08191\n"
     ]
    }
   ],
   "source": [
    "predictions_train = model.predict(X)\n",
    "predictions_test = model.predict(sm.add_constant(test_x))\n",
    "\n",
    "errors_train = abs(predictions_train - train_y.iloc[:, 0])\n",
    "errors_test = abs(predictions_test - test_y.iloc[:, 0])\n",
    "\n",
    "print(\"Training Mean Absolute Error: \", round(np.mean(errors_train), 5))\n",
    "print(\"Testing Mean Absolute Error: \", round(np.mean(errors_test), 5))"
   ]
  },
  {
   "cell_type": "markdown",
   "metadata": {},
   "source": [
    "Our test MAE decreased from `0.08532` to `0.08191` (4% improvement). \n",
    "\n",
    "Further, our training MAE is closer to our testing MAE than the first model, indicating a more generalizable model to use for scoring. \n",
    "\n",
    "The Adjusted-R^2 remains unchanged. However, our AIC and BIC decrease (a good indicator). The F-Statistic increases (a good indicator).  "
   ]
  },
  {
   "cell_type": "markdown",
   "metadata": {},
   "source": [
    "A comment on `metro_div`. Just because a feature is not statistically significant, doesn't mean it should be excluded from your model. `metro_div` still captures some qualitative information necessary to capture the pattern in the data. If we conduct one more model (not featured here) with only `total_population_log`,`icu_beds_log`, excluding `metro_div`, our test MAE jumps to `0.08496`. This proves we need to keep `metro_div` in our model.  "
   ]
  },
  {
   "cell_type": "code",
   "execution_count": 37,
   "metadata": {},
   "outputs": [
    {
     "data": {
      "text/plain": [
       "const                   501.870186\n",
       "total_population_log      8.448365\n",
       "icu_beds_log              8.071057\n",
       "metro_div                 1.137040\n",
       "dtype: float64"
      ]
     },
     "execution_count": 37,
     "metadata": {},
     "output_type": "execute_result"
    }
   ],
   "source": [
    "pd.Series([variance_inflation_factor(X.values, i) \n",
    "           for i in range(X.shape[1])], \n",
    "          index = X.columns)"
   ]
  },
  {
   "cell_type": "markdown",
   "metadata": {},
   "source": [
    "The VIF for our features seem like they are able to be improved. A rule of thumb on VIF, generally VIF < 10 is a good indicator, some schools of thought refer to a VIF < 5. We have demonstrated how to improve a model via feature generation (binary features), feature engineering (log), and removing multicollinearity. But let's push a little further. "
   ]
  },
  {
   "cell_type": "markdown",
   "metadata": {},
   "source": [
    "Let's try one more model with only `total_population_log` and `metro_div`. Let's attempt to rid our model completely of multicollinearity."
   ]
  },
  {
   "cell_type": "code",
   "execution_count": 38,
   "metadata": {},
   "outputs": [
    {
     "data": {
      "text/html": [
       "<table class=\"simpletable\">\n",
       "<caption>OLS Regression Results</caption>\n",
       "<tr>\n",
       "  <th>Dep. Variable:</th>    <td>total_at_risk_log</td> <th>  R-squared:         </th> <td>   0.993</td> \n",
       "</tr>\n",
       "<tr>\n",
       "  <th>Model:</th>                   <td>OLS</td>        <th>  Adj. R-squared:    </th> <td>   0.993</td> \n",
       "</tr>\n",
       "<tr>\n",
       "  <th>Method:</th>             <td>Least Squares</td>   <th>  F-statistic:       </th> <td>   8340.</td> \n",
       "</tr>\n",
       "<tr>\n",
       "  <th>Date:</th>             <td>Tue, 12 May 2020</td>  <th>  Prob (F-statistic):</th> <td>1.42e-122</td>\n",
       "</tr>\n",
       "<tr>\n",
       "  <th>Time:</th>                 <td>18:57:54</td>      <th>  Log-Likelihood:    </th> <td>  112.69</td> \n",
       "</tr>\n",
       "<tr>\n",
       "  <th>No. Observations:</th>      <td>   115</td>       <th>  AIC:               </th> <td>  -219.4</td> \n",
       "</tr>\n",
       "<tr>\n",
       "  <th>Df Residuals:</th>          <td>   112</td>       <th>  BIC:               </th> <td>  -211.1</td> \n",
       "</tr>\n",
       "<tr>\n",
       "  <th>Df Model:</th>              <td>     2</td>       <th>                     </th>     <td> </td>    \n",
       "</tr>\n",
       "<tr>\n",
       "  <th>Covariance Type:</th>      <td>nonrobust</td>     <th>                     </th>     <td> </td>    \n",
       "</tr>\n",
       "</table>\n",
       "<table class=\"simpletable\">\n",
       "<tr>\n",
       "            <td></td>              <th>coef</th>     <th>std err</th>      <th>t</th>      <th>P>|t|</th>  <th>[0.025</th>    <th>0.975]</th>  \n",
       "</tr>\n",
       "<tr>\n",
       "  <th>const</th>                <td>   -0.2775</td> <td>    0.105</td> <td>   -2.638</td> <td> 0.010</td> <td>   -0.486</td> <td>   -0.069</td>\n",
       "</tr>\n",
       "<tr>\n",
       "  <th>total_population_log</th> <td>    0.9834</td> <td>    0.008</td> <td>  123.712</td> <td> 0.000</td> <td>    0.968</td> <td>    0.999</td>\n",
       "</tr>\n",
       "<tr>\n",
       "  <th>metro_div</th>            <td>   -0.0591</td> <td>    0.029</td> <td>   -2.008</td> <td> 0.047</td> <td>   -0.117</td> <td>   -0.001</td>\n",
       "</tr>\n",
       "</table>\n",
       "<table class=\"simpletable\">\n",
       "<tr>\n",
       "  <th>Omnibus:</th>       <td> 1.704</td> <th>  Durbin-Watson:     </th> <td>   1.699</td>\n",
       "</tr>\n",
       "<tr>\n",
       "  <th>Prob(Omnibus):</th> <td> 0.426</td> <th>  Jarque-Bera (JB):  </th> <td>   1.222</td>\n",
       "</tr>\n",
       "<tr>\n",
       "  <th>Skew:</th>          <td>-0.109</td> <th>  Prob(JB):          </th> <td>   0.543</td>\n",
       "</tr>\n",
       "<tr>\n",
       "  <th>Kurtosis:</th>      <td> 3.455</td> <th>  Cond. No.          </th> <td>    165.</td>\n",
       "</tr>\n",
       "</table><br/><br/>Warnings:<br/>[1] Standard Errors assume that the covariance matrix of the errors is correctly specified."
      ],
      "text/plain": [
       "<class 'statsmodels.iolib.summary.Summary'>\n",
       "\"\"\"\n",
       "                            OLS Regression Results                            \n",
       "==============================================================================\n",
       "Dep. Variable:      total_at_risk_log   R-squared:                       0.993\n",
       "Model:                            OLS   Adj. R-squared:                  0.993\n",
       "Method:                 Least Squares   F-statistic:                     8340.\n",
       "Date:                Tue, 12 May 2020   Prob (F-statistic):          1.42e-122\n",
       "Time:                        18:57:54   Log-Likelihood:                 112.69\n",
       "No. Observations:                 115   AIC:                            -219.4\n",
       "Df Residuals:                     112   BIC:                            -211.1\n",
       "Df Model:                           2                                         \n",
       "Covariance Type:            nonrobust                                         \n",
       "========================================================================================\n",
       "                           coef    std err          t      P>|t|      [0.025      0.975]\n",
       "----------------------------------------------------------------------------------------\n",
       "const                   -0.2775      0.105     -2.638      0.010      -0.486      -0.069\n",
       "total_population_log     0.9834      0.008    123.712      0.000       0.968       0.999\n",
       "metro_div               -0.0591      0.029     -2.008      0.047      -0.117      -0.001\n",
       "==============================================================================\n",
       "Omnibus:                        1.704   Durbin-Watson:                   1.699\n",
       "Prob(Omnibus):                  0.426   Jarque-Bera (JB):                1.222\n",
       "Skew:                          -0.109   Prob(JB):                        0.543\n",
       "Kurtosis:                       3.455   Cond. No.                         165.\n",
       "==============================================================================\n",
       "\n",
       "Warnings:\n",
       "[1] Standard Errors assume that the covariance matrix of the errors is correctly specified.\n",
       "\"\"\""
      ]
     },
     "execution_count": 38,
     "metadata": {},
     "output_type": "execute_result"
    }
   ],
   "source": [
    "train_x = train_df[[\"total_population_log\",\"metro_div\"]]\n",
    "train_y = train_df[[\"total_at_risk_log\"]]\n",
    "test_x = test_df[[\"total_population_log\",\"metro_div\"]]\n",
    "test_y = test_df[[\"total_at_risk_log\"]]\n",
    "\n",
    "X = sm.add_constant(train_x)\n",
    "model = sm.OLS(train_y, X).fit()\n",
    "\n",
    "model.summary()"
   ]
  },
  {
   "cell_type": "code",
   "execution_count": 39,
   "metadata": {},
   "outputs": [
    {
     "name": "stdout",
     "output_type": "stream",
     "text": [
      "Training Mean Absolute Error:  0.07158\n",
      "Testing Mean Absolute Error:  0.07621\n"
     ]
    }
   ],
   "source": [
    "predictions_train = model.predict(X)\n",
    "predictions_test = model.predict(sm.add_constant(test_x))\n",
    "\n",
    "errors_train = abs(predictions_train - train_y.iloc[:, 0])\n",
    "errors_test = abs(predictions_test - test_y.iloc[:, 0])\n",
    "\n",
    "print(\"Training Mean Absolute Error: \", round(np.mean(errors_train), 5))\n",
    "print(\"Testing Mean Absolute Error: \", round(np.mean(errors_test), 5))"
   ]
  },
  {
   "cell_type": "code",
   "execution_count": 40,
   "metadata": {},
   "outputs": [
    {
     "data": {
      "text/plain": [
       "const                   150.328762\n",
       "total_population_log      1.100299\n",
       "metro_div                 1.100299\n",
       "dtype: float64"
      ]
     },
     "execution_count": 40,
     "metadata": {},
     "output_type": "execute_result"
    }
   ],
   "source": [
    "pd.Series([variance_inflation_factor(X.values, i) \n",
    "           for i in range(X.shape[1])], \n",
    "          index = X.columns)"
   ]
  },
  {
   "cell_type": "markdown",
   "metadata": {},
   "source": [
    "WOW! Our model looks great! Our Adjusted-R^2 is approximately the same. Our F-Statistic increased, although it already was statistically significant. Our AIC and BIC did increase, generally not a good indicator. However, we have made substantial improvement in our test MAE, `0.07621`, a 10.7% improvement from our base model!  The fact that our train MAE and test MAE are similar means we are not overfitting our model as earlier models may have been, even when earlier models had a handful of features."
   ]
  },
  {
   "cell_type": "markdown",
   "metadata": {},
   "source": [
    "We can firmly express, for sake of interpretation, that a 1% increase in total population leads to a 0.98% increase in the total population at risk. This illustrates that higher populated areas are more at risk. Further, if an MMSA is a Metropolitan Division, the total population at risk decreases by 0.06%. This demonstrates that more resources available in Metropolitan Divisions do make a difference to decrease the total population at risk. "
   ]
  },
  {
   "cell_type": "markdown",
   "metadata": {},
   "source": [
    "Just to prove that we made the right decision among which features to include in the model - choosing `total_population_log` instead of `icu_beds_log`, as both have approximately the same VIF - let's quickly estimate the test MAE of a model with features `icu_beds_log` and `metro_div`."
   ]
  },
  {
   "cell_type": "code",
   "execution_count": 41,
   "metadata": {},
   "outputs": [
    {
     "name": "stdout",
     "output_type": "stream",
     "text": [
      "Training Mean Absolute Error:  0.26571\n",
      "Testing Mean Absolute Error:  0.33461\n"
     ]
    }
   ],
   "source": [
    "train_x = train_df[[\"icu_beds_log\",\"metro_div\"]]\n",
    "train_y = train_df[[\"total_at_risk_log\"]]\n",
    "test_x = test_df[[\"icu_beds_log\",\"metro_div\"]]\n",
    "test_y = test_df[[\"total_at_risk_log\"]]\n",
    "\n",
    "X = sm.add_constant(train_x)\n",
    "model = sm.OLS(train_y, X).fit()\n",
    "\n",
    "predictions_train = model.predict(X)\n",
    "predictions_test = model.predict(sm.add_constant(test_x))\n",
    "\n",
    "errors_train = abs(predictions_train - train_y.iloc[:, 0])\n",
    "errors_test = abs(predictions_test - test_y.iloc[:, 0])\n",
    "\n",
    "print(\"Training Mean Absolute Error: \", round(np.mean(errors_train), 5))\n",
    "print(\"Testing Mean Absolute Error: \", round(np.mean(errors_test), 5))"
   ]
  },
  {
   "cell_type": "markdown",
   "metadata": {},
   "source": [
    "When estimating a model with `icu_beds_log` and `metro_div` instead of `total_population_log` and `metro_div`, our MAE skyrocket. "
   ]
  },
  {
   "cell_type": "markdown",
   "metadata": {},
   "source": [
    "We have a champion model. \n",
    "\n",
    "$$ (TotalAtRiskLog) = B(0) + B(1)(TotalPopulationLog) + B(2)(MetroDiv) $$\n",
    "\n",
    "Let's see how an ensemble method stacks up to our OLS model. "
   ]
  },
  {
   "cell_type": "code",
   "execution_count": 42,
   "metadata": {},
   "outputs": [
    {
     "name": "stdout",
     "output_type": "stream",
     "text": [
      "Training Mean Absolute Error:  0.04038\n",
      "Testing Mean Absolute Error:  0.10914\n"
     ]
    }
   ],
   "source": [
    "train_x = train_df[[\"total_population_log\",\"metro_div\"]]\n",
    "train_y = train_df[[\"total_at_risk_log\"]]\n",
    "test_x = test_df[[\"total_population_log\",\"metro_div\"]]\n",
    "test_y = test_df[[\"total_at_risk_log\"]]\n",
    "\n",
    "# Instantiate model with 1000 decision trees\n",
    "rf = RandomForestRegressor(n_estimators = 100, random_state = 42)\n",
    "\n",
    "# Train the model on training data\n",
    "rf.fit(train_x, train_y.iloc[:,0])\n",
    "\n",
    "predictions_rf_train = rf.predict(train_x)\n",
    "predictions_rf_test = rf.predict(test_x)\n",
    "\n",
    "errors_train = abs(predictions_rf_train - train_y.iloc[:, 0])\n",
    "errors_test = abs(predictions_rf_test - test_y.iloc[:, 0])\n",
    "\n",
    "print(\"Training Mean Absolute Error: \", round(np.mean(errors_train), 5))\n",
    "print(\"Testing Mean Absolute Error: \", round(np.mean(errors_test), 5))"
   ]
  },
  {
   "cell_type": "markdown",
   "metadata": {},
   "source": [
    "Our Random Forest estimator doesn't outperform our OLS model. Let's try to tune the model with some different parameters."
   ]
  },
  {
   "cell_type": "code",
   "execution_count": 43,
   "metadata": {},
   "outputs": [
    {
     "name": "stdout",
     "output_type": "stream",
     "text": [
      "Training Mean Absolute Error:  0.06284\n",
      "Testing Mean Absolute Error:  0.14084\n"
     ]
    }
   ],
   "source": [
    "rf = RandomForestRegressor(n_estimators = 1000, # default = 100\n",
    "                           min_samples_split = 3, # default = 2\n",
    "                           min_samples_leaf = 2, # default = 1\n",
    "                           min_impurity_decrease = 0.0001, # default = 0\n",
    "                           random_state = 42\n",
    "                          )\n",
    "\n",
    "rf.fit(train_x, train_y.iloc[:,0])\n",
    "\n",
    "predictions_rf_train = rf.predict(train_x)\n",
    "predictions_rf_test = rf.predict(test_x)\n",
    "\n",
    "errors_train = abs(predictions_rf_train - train_y.iloc[:, 0])\n",
    "errors_test = abs(predictions_rf_test - test_y.iloc[:, 0])\n",
    "\n",
    "print(\"Training Mean Absolute Error: \", round(np.mean(errors_train), 5))\n",
    "print(\"Testing Mean Absolute Error: \", round(np.mean(errors_test), 5))"
   ]
  },
  {
   "cell_type": "markdown",
   "metadata": {},
   "source": [
    "It seems that tuning the parameters, attempting to make the model more generalizable to unseen data, increases our MAE (as expected, but doesn't improve our outcome). Our Random Forest model seems to be overfit, or at least may need some more predictive features, as can be seen by the wide range between the MAE of the training dataset and test dataset.\n",
    "\n",
    "Our OLS model stands as our best model. Though ensembling methods may prove superior for more complex, larger datasets, OLS performs well when all of it's assumptions are met and the pattern in the data is largely linear, as we've seen with the correlation and model coefficients. With a small dataset and only two features, Random Forest ensembling, a tree-based method, is limited in capturing the linear relationships. "
   ]
  },
  {
   "cell_type": "markdown",
   "metadata": {},
   "source": [
    "##### A few caveats"
   ]
  },
  {
   "cell_type": "markdown",
   "metadata": {},
   "source": [
    "We need to remember that we used our target variable to calculate one of our features, total population. This was done to simply demonstrate the data preparation and modeling processes, not to make a determination on the risk of COVID-19. \n",
    "\n",
    "This project is meant to be a fun demonstration of a data science process. \n",
    "\n",
    "Thank you for reading!"
   ]
  }
 ],
 "metadata": {
  "kernelspec": {
   "display_name": "Python 3",
   "language": "python",
   "name": "python3"
  },
  "language_info": {
   "codemirror_mode": {
    "name": "ipython",
    "version": 3
   },
   "file_extension": ".py",
   "mimetype": "text/x-python",
   "name": "python",
   "nbconvert_exporter": "python",
   "pygments_lexer": "ipython3",
   "version": "3.7.4"
  }
 },
 "nbformat": 4,
 "nbformat_minor": 2
}
